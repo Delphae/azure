{
 "cells": [
  {
   "cell_type": "code",
   "execution_count": 1,
   "metadata": {},
   "outputs": [],
   "source": [
    "#    ____       _       _\n",
    "#   |  _ \\  ___| |_ __ | |__   __ _  ___\n",
    "#   | | | |/ _ \\ | '_ \\| '_ \\ / _` |/ _ \\\n",
    "#   | |_| |  __/ | |_) | | | | (_| |  __/\n",
    "#   |____/ \\___|_| .__/|_| |_|\\__,_|\\___|\n",
    "#                |_|"
   ]
  },
  {
   "cell_type": "raw",
   "metadata": {},
   "source": [
    "version 1.5\n",
    "date 2019-08-14"
   ]
  },
  {
   "cell_type": "code",
   "execution_count": 2,
   "metadata": {},
   "outputs": [],
   "source": [
    "import requests\n",
    "import json\n",
    "from datetime import datetime as dt\n",
    "import pandas as pd"
   ]
  },
  {
   "cell_type": "markdown",
   "metadata": {},
   "source": [
    "## Azure AD Authentication"
   ]
  },
  {
   "cell_type": "markdown",
   "metadata": {},
   "source": [
    "https://docs.microsoft.com/nl-nl/azure/active-directory/develop/howto-create-service-principal-portal"
   ]
  },
  {
   "cell_type": "markdown",
   "metadata": {},
   "source": [
    "1. create Azure AD application to 'App registrations' <br>\n",
    "    for example: 'azure-lab4-arm-api' <br>\n",
    "    redirect: http://localhost <br>\n",
    "    create 'Client secret' and save to variable azure_secret <br>\n",
    "<br>    \n",
    "2. assign application to a RBAC role 'Owner'<br>\n",
    "   via Cost Management + Billing, select Subscription 'Free Trial'<br>\n",
    "   Access Control (IAM)<br>\n",
    "   Role assignments<br>\n",
    "   Search by application name 'azure-lab4-arm-api'<br>\n",
    "   Add role assigment to 'Owner'\n",
    "   "
   ]
  },
  {
   "cell_type": "markdown",
   "metadata": {},
   "source": [
    "### Azure ID's"
   ]
  },
  {
   "cell_type": "code",
   "execution_count": 218,
   "metadata": {},
   "outputs": [],
   "source": [
    "# azure-lab4-arm-api\n",
    "\n",
    "# subscription ID can be found on a resource, overview page\n",
    "azure_subscription_id = 'a8682560-0e6b-4834-accf-21ff95b29125'\n",
    "\n",
    "# app information can be found:\n",
    "# Azure Active Directory\n",
    "# app Registrations\n",
    "# overview\n",
    "azure_tenant = '3089f1b6-d716-42a9-9dd5-a580cf7b4f12'\n",
    "azure_client_id = '0407876f-fcd1-4260-bfa4-4180a54beced'\n",
    "\n",
    "# client secret only visible during creation\n",
    "# copy & pase here\n",
    "azure_secret = 'y14SA6[CI5SN/caV:::K[SeH+h/09e[g'"
   ]
  },
  {
   "cell_type": "markdown",
   "metadata": {},
   "source": [
    "### Request Access Token"
   ]
  },
  {
   "cell_type": "code",
   "execution_count": 219,
   "metadata": {},
   "outputs": [
    {
     "name": "stdout",
     "output_type": "stream",
     "text": [
      "{\n",
      "    \"token_type\": \"Bearer\",\n",
      "    \"expires_in\": \"3600\",\n",
      "    \"ext_expires_in\": \"3600\",\n",
      "    \"expires_on\": \"1565818578\",\n",
      "    \"not_before\": \"1565814678\",\n",
      "    \"resource\": \"https://management.core.windows.net\",\n",
      "    \"access_token\": \"eyJ0eXAiOiJKV1QiLCJhbGciOiJSUzI1NiIsIng1dCI6ImllX3FXQ1hoWHh0MXpJRXN1NGM3YWNRVkduNCIsImtpZCI6ImllX3FXQ1hoWHh0MXpJRXN1NGM3YWNRVkduNCJ9.eyJhdWQiOiJodHRwczovL21hbmFnZW1lbnQuY29yZS53aW5kb3dzLm5ldCIsImlzcyI6Imh0dHBzOi8vc3RzLndpbmRvd3MubmV0LzMwODlmMWI2LWQ3MTYtNDJhOS05ZGQ1LWE1ODBjZjdiNGYxMi8iLCJpYXQiOjE1NjU4MTQ2NzgsIm5iZiI6MTU2NTgxNDY3OCwiZXhwIjoxNTY1ODE4NTc4LCJhaW8iOiI0MkZnWUxCcloyLzJZYS8xZFlyNjhrUkFhcWM3QUE9PSIsImFwcGlkIjoiMDQwNzg3NmYtZmNkMS00MjYwLWJmYTQtNDE4MGE1NGJlY2VkIiwiYXBwaWRhY3IiOiIxIiwiaWRwIjoiaHR0cHM6Ly9zdHMud2luZG93cy5uZXQvMzA4OWYxYjYtZDcxNi00MmE5LTlkZDUtYTU4MGNmN2I0ZjEyLyIsIm9pZCI6IjYwNDU2YzQzLTI4NjktNDY5NS05YTM5LTcwM2UxZjM1NzliMSIsInN1YiI6IjYwNDU2YzQzLTI4NjktNDY5NS05YTM5LTcwM2UxZjM1NzliMSIsInRpZCI6IjMwODlmMWI2LWQ3MTYtNDJhOS05ZGQ1LWE1ODBjZjdiNGYxMiIsInV0aSI6IjFxSl9kQ1o1YUUyYXljRWVuUmJEQUEiLCJ2ZXIiOiIxLjAifQ.CrUOrAo0bSFHfdNfiUZxmh3HUNOuKuET6umwrDtLOkRxKBumOe0cSP9Hl7yMYZlTYqvm2CFm44DzQQfNqzY5HiCAVx1gC1VBTpBH9dGnr8G22WyotiLrTyU5ZvyjwJbb-nKZfnG1u0NCduFy799frRtm43MhNsjmz6J2RyBGEDGuGbCuRV_CCguUY2hNCtR0-9GoAyS68dIZjFQiqdRU7QM6IOwUznD7LDF_cX_249NkedhFqSU_Tk9ZajkYmHXVGjXkrDF_BhwiR5cd3Msl1sneRj1JAwBGASMXLf3eAOkh9FgSunUKSDYxuqX0Tq3fTzDByXyyE2iHGUX1e6_M1w\"\n",
      "}\n"
     ]
    }
   ],
   "source": [
    "# authorize with azure\n",
    "\n",
    "#\n",
    "# tutorial\n",
    "# http://exponentialcoding.com/accessing-azure-rest-api-from-python/\n",
    "#\n",
    "# remark: access_token expires in 1 hour\n",
    "#\n",
    "\n",
    "url = \"https://login.windows.net/%s/oauth2/token\" % azure_tenant\n",
    "\n",
    "#data = \"resource=https%3A%2F%2Fmanagement.core.windows.net%2F&client_id=\" + azure_client_id + \"&grant_type=client_credentials&client_secret=\" + azure_secret\n",
    "parameters = {\n",
    "    'resource' : 'https://management.core.windows.net',\n",
    "    'client_id' : azure_client_id,\n",
    "    'grant_type' : 'client_credentials',\n",
    "    'client_secret': azure_secret\n",
    "}\n",
    "\n",
    "headers = {'Content-Type': 'application/x-www-form-urlencoded'}\n",
    "response = requests.post(url, data=parameters, headers=headers)\n",
    "jsdata = response.json()\n",
    "\n",
    "print (json.dumps(jsdata, indent=4))\n",
    "access_token = jsdata['access_token']"
   ]
  },
  {
   "cell_type": "markdown",
   "metadata": {},
   "source": [
    "## Azure Resource Explorer\n",
    "https://resources.azure.com\n",
    "\n",
    "copy & paste the URL to variable 'url'<br>\n",
    "your Azure subscription_id will change after the Free Trial period<br>\n",
    "copy & past the new URL and save to variable 'url' below"
   ]
  },
  {
   "cell_type": "code",
   "execution_count": 220,
   "metadata": {},
   "outputs": [],
   "source": [
    "headers = {'Authorization': 'Bearer ' + access_token, \n",
    "           'Content-Type': 'application/json' }"
   ]
  },
  {
   "cell_type": "code",
   "execution_count": 221,
   "metadata": {},
   "outputs": [
    {
     "name": "stdout",
     "output_type": "stream",
     "text": [
      "200\n",
      "[\n",
      "    {\n",
      "        \"id\": \"/subscriptions/a8682560-0e6b-4834-accf-21ff95b29125\",\n",
      "        \"subscriptionId\": \"a8682560-0e6b-4834-accf-21ff95b29125\",\n",
      "        \"displayName\": \"Free Trial\",\n",
      "        \"state\": \"Enabled\",\n",
      "        \"subscriptionPolicies\": {\n",
      "            \"locationPlacementId\": \"Public_2014-09-01\",\n",
      "            \"quotaId\": \"FreeTrial_2014-09-01\",\n",
      "            \"spendingLimit\": \"On\"\n",
      "        }\n",
      "    }\n",
      "]\n"
     ]
    }
   ],
   "source": [
    "# subscriptions\n",
    "\n",
    "url = 'https://management.azure.com/subscriptions?api-version=2014-04-01'\n",
    "response = requests.get(url, headers=headers)\n",
    "print (response.status_code)\n",
    "jsdata = response.json()\n",
    "print (json.dumps(jsdata['value'], indent=4))\n"
   ]
  },
  {
   "cell_type": "code",
   "execution_count": 222,
   "metadata": {},
   "outputs": [
    {
     "name": "stdout",
     "output_type": "stream",
     "text": [
      "200\n",
      "[\n",
      "    {\n",
      "        \"id\": \"/subscriptions/a8682560-0e6b-4834-accf-21ff95b29125/resourceGroups/cloud-shell-storage-westeurope\",\n",
      "        \"name\": \"cloud-shell-storage-westeurope\",\n",
      "        \"location\": \"westeurope\",\n",
      "        \"properties\": {\n",
      "            \"provisioningState\": \"Succeeded\"\n",
      "        }\n",
      "    },\n",
      "    {\n",
      "        \"id\": \"/subscriptions/a8682560-0e6b-4834-accf-21ff95b29125/resourceGroups/delphae-freetrail\",\n",
      "        \"name\": \"delphae-freetrail\",\n",
      "        \"location\": \"westeurope\",\n",
      "        \"properties\": {\n",
      "            \"provisioningState\": \"Succeeded\"\n",
      "        }\n",
      "    },\n",
      "    {\n",
      "        \"id\": \"/subscriptions/a8682560-0e6b-4834-accf-21ff95b29125/resourceGroups/NetworkWatcherRG\",\n",
      "        \"name\": \"NetworkWatcherRG\",\n",
      "        \"location\": \"westeurope\",\n",
      "        \"properties\": {\n",
      "            \"provisioningState\": \"Succeeded\"\n",
      "        }\n",
      "    }\n",
      "]\n"
     ]
    }
   ],
   "source": [
    "# resource groups\n",
    "\n",
    "url = \"https://management.azure.com/subscriptions/a8682560-0e6b-4834-accf-21ff95b29125/resourceGroups?api-version=2014-04-01\"\n",
    "#print (url)\n",
    "response = requests.get(url, headers=headers, timeout=5)\n",
    "print (response.status_code)\n",
    "jsdata = response.json()\n",
    "print (json.dumps(jsdata['value'], indent=4))"
   ]
  },
  {
   "cell_type": "code",
   "execution_count": 223,
   "metadata": {},
   "outputs": [
    {
     "name": "stdout",
     "output_type": "stream",
     "text": [
      "200\n",
      "{\n",
      "    \"id\": \"/subscriptions/a8682560-0e6b-4834-accf-21ff95b29125/resourceGroups/delphae-freetrail\",\n",
      "    \"name\": \"delphae-freetrail\",\n",
      "    \"location\": \"westeurope\",\n",
      "    \"properties\": {\n",
      "        \"provisioningState\": \"Succeeded\"\n",
      "    }\n",
      "}\n"
     ]
    }
   ],
   "source": [
    "# delphae-freetrail\n",
    "\n",
    "url = \"https://management.azure.com/subscriptions/a8682560-0e6b-4834-accf-21ff95b29125/resourceGroups/delphae-freetrail?api-version=2014-04-01\"\n",
    "response = requests.get(url, headers=headers, timeout=5)\n",
    "print (response.status_code)\n",
    "jsdata = response.json()\n",
    "print (json.dumps(jsdata, indent=4))"
   ]
  },
  {
   "cell_type": "code",
   "execution_count": 225,
   "metadata": {},
   "outputs": [
    {
     "name": "stdout",
     "output_type": "stream",
     "text": [
      "200\n",
      "{\n",
      "    \"name\": \"azure-ie-ubuntu-03\",\n",
      "    \"id\": \"/subscriptions/a8682560-0e6b-4834-accf-21ff95b29125/resourceGroups/delphae-freetrail/providers/Microsoft.Compute/virtualMachines/azure-ie-ubuntu-03\",\n",
      "    \"type\": \"Microsoft.Compute/virtualMachines\",\n",
      "    \"location\": \"northeurope\",\n",
      "    \"properties\": {\n",
      "        \"vmId\": \"9d4b2a6c-1548-4001-9195-0aa44bb70b4f\",\n",
      "        \"hardwareProfile\": {\n",
      "            \"vmSize\": \"Standard_B1s\"\n",
      "        },\n",
      "        \"storageProfile\": {\n",
      "            \"imageReference\": {\n",
      "                \"publisher\": \"Canonical\",\n",
      "                \"offer\": \"UbuntuServer\",\n",
      "                \"sku\": \"18.04-LTS\",\n",
      "                \"version\": \"latest\"\n",
      "            },\n",
      "            \"osDisk\": {\n",
      "                \"osType\": \"Linux\",\n",
      "                \"name\": \"azure-ie-ubuntu-03_OsDisk_1_cecbf9731d22446296938226597069a9\",\n",
      "                \"createOption\": \"FromImage\",\n",
      "                \"caching\": \"ReadWrite\",\n",
      "                \"managedDisk\": {\n",
      "                    \"id\": \"/subscriptions/a8682560-0e6b-4834-accf-21ff95b29125/resourceGroups/DELPHAE-FREETRAIL/providers/Microsoft.Compute/disks/azure-ie-ubuntu-03_OsDisk_1_cecbf9731d22446296938226597069a9\"\n",
      "                }\n",
      "            },\n",
      "            \"dataDisks\": []\n",
      "        },\n",
      "        \"osProfile\": {\n",
      "            \"computerName\": \"azure-ie-ubuntu-03\",\n",
      "            \"adminUsername\": \"cvwordragen\",\n",
      "            \"linuxConfiguration\": {\n",
      "                \"disablePasswordAuthentication\": false,\n",
      "                \"provisionVMAgent\": true\n",
      "            },\n",
      "            \"secrets\": [],\n",
      "            \"allowExtensionOperations\": true,\n",
      "            \"requireGuestProvisionSignal\": true\n",
      "        },\n",
      "        \"networkProfile\": {\n",
      "            \"networkInterfaces\": [\n",
      "                {\n",
      "                    \"id\": \"/subscriptions/a8682560-0e6b-4834-accf-21ff95b29125/resourceGroups/delphae-freetrail/providers/Microsoft.Network/networkInterfaces/azure-ie-ubuntu-03866\"\n",
      "                }\n",
      "            ]\n",
      "        },\n",
      "        \"diagnosticsProfile\": {\n",
      "            \"bootDiagnostics\": {\n",
      "                \"enabled\": true,\n",
      "                \"storageUri\": \"https://delphaefreetraildiag131.blob.core.windows.net/\"\n",
      "            }\n",
      "        },\n",
      "        \"provisioningState\": \"Succeeded\"\n",
      "    }\n",
      "}\n",
      "azure-ie-ubuntu-03  northeurope    Linux          18.04-LTS \n",
      "azure-nl-ubuntu-01  westeurope     Linux          18.04-LTS \n",
      "azure-uk-ubuntu-04  ukwest         Linux          18.04-LTS \n",
      "azure-fr-ubuntu-07  francecentral  Linux          18.04-LTS \n"
     ]
    }
   ],
   "source": [
    "# virtual machines\n",
    "\n",
    "url = 'https://management.azure.com/subscriptions/a8682560-0e6b-4834-accf-21ff95b29125/resourceGroups/delphae-freetrail/providers/Microsoft.Compute/virtualMachines?api-version=2018-10-01'\n",
    "response = requests.get(url, headers=headers, timeout=5)\n",
    "print (response.status_code)\n",
    "jsdata = response.json()\n",
    "print (json.dumps(jsdata['value'][0], indent=4))\n",
    "\n",
    "for vm in jsdata['value']:\n",
    "    print ('{:20s}{:15s}{:15s}{:10s}'.format(vm['name'], \n",
    "                           vm['location'], \n",
    "                           vm['properties']['storageProfile']['osDisk']['osType'], \n",
    "                           vm['properties']['storageProfile']['imageReference']['sku']))"
   ]
  },
  {
   "cell_type": "code",
   "execution_count": 50,
   "metadata": {},
   "outputs": [
    {
     "name": "stdout",
     "output_type": "stream",
     "text": [
      "200\n",
      "{\n",
      "    \"provisioningState\": \"Succeeded\",\n",
      "    \"resourceGuid\": \"28241ef5-734f-42d3-bf4b-8b31c624672d\",\n",
      "    \"virtualNetworkGateway1\": {\n",
      "        \"id\": \"/subscriptions/a8682560-0e6b-4834-accf-21ff95b29125/resourceGroups/delphae-freetrail/providers/Microsoft.Network/virtualNetworkGateways/lab2-vnet-gw\"\n",
      "    },\n",
      "    \"localNetworkGateway2\": {\n",
      "        \"id\": \"/subscriptions/a8682560-0e6b-4834-accf-21ff95b29125/resourceGroups/delphae-freetrail/providers/Microsoft.Network/localNetworkGateways/lab2-meraki-sdwan\"\n",
      "    },\n",
      "    \"connectionType\": \"IPsec\",\n",
      "    \"connectionProtocol\": \"IKEv1\",\n",
      "    \"routingWeight\": 0,\n",
      "    \"enableBgp\": false,\n",
      "    \"usePolicyBasedTrafficSelectors\": false,\n",
      "    \"ipsecPolicies\": [],\n",
      "    \"ingressBytesTransferred\": 0,\n",
      "    \"egressBytesTransferred\": 0,\n",
      "    \"expressRouteGatewayBypass\": false\n",
      "}\n"
     ]
    }
   ],
   "source": [
    "# connections\n",
    "\n",
    "url = 'https://management.azure.com/subscriptions/a8682560-0e6b-4834-accf-21ff95b29125/resourceGroups/delphae-freetrail/providers/Microsoft.Network/connections?api-version=2018-07-01'\n",
    "response = requests.get(url, headers=headers)\n",
    "print (response.status_code)\n",
    "jsdata = response.json()\n",
    "#print (json.dumps(jsdata['value'][0], indent=4))\n",
    "print (json.dumps(jsdata['value'][0]['properties'], indent=4))"
   ]
  },
  {
   "cell_type": "code",
   "execution_count": 66,
   "metadata": {},
   "outputs": [
    {
     "name": "stdout",
     "output_type": "stream",
     "text": [
      "200\n"
     ]
    }
   ],
   "source": [
    "url = 'https://management.azure.com/subscriptions/a8682560-0e6b-4834-accf-21ff95b29125/resourceGroups/delphae-freetrail/providers/Microsoft.Network/connections/lab2-meraki-vpn?api-version=2018-07-01'\n",
    "response = requests.get(url, headers=headers)\n",
    "print (response.status_code)\n",
    "jsdata = response.json()"
   ]
  },
  {
   "cell_type": "code",
   "execution_count": 67,
   "metadata": {},
   "outputs": [
    {
     "name": "stdout",
     "output_type": "stream",
     "text": [
      "{\n",
      "    \"name\": \"lab2-meraki-vpn\",\n",
      "    \"id\": \"/subscriptions/a8682560-0e6b-4834-accf-21ff95b29125/resourceGroups/delphae-freetrail/providers/Microsoft.Network/connections/lab2-meraki-vpn\",\n",
      "    \"etag\": \"W/\\\"7c71f338-b74a-48fa-b50c-ab9afafa579e\\\"\",\n",
      "    \"type\": \"Microsoft.Network/connections\",\n",
      "    \"location\": \"westeurope\",\n",
      "    \"properties\": {\n",
      "        \"provisioningState\": \"Succeeded\",\n",
      "        \"resourceGuid\": \"28241ef5-734f-42d3-bf4b-8b31c624672d\",\n",
      "        \"virtualNetworkGateway1\": {\n",
      "            \"id\": \"/subscriptions/a8682560-0e6b-4834-accf-21ff95b29125/resourceGroups/delphae-freetrail/providers/Microsoft.Network/virtualNetworkGateways/lab2-vnet-gw\"\n",
      "        },\n",
      "        \"localNetworkGateway2\": {\n",
      "            \"id\": \"/subscriptions/a8682560-0e6b-4834-accf-21ff95b29125/resourceGroups/delphae-freetrail/providers/Microsoft.Network/localNetworkGateways/lab2-meraki-sdwan\"\n",
      "        },\n",
      "        \"connectionType\": \"IPsec\",\n",
      "        \"connectionProtocol\": \"IKEv1\",\n",
      "        \"routingWeight\": 0,\n",
      "        \"sharedKey\": \"Delphae2019\",\n",
      "        \"enableBgp\": false,\n",
      "        \"usePolicyBasedTrafficSelectors\": false,\n",
      "        \"ipsecPolicies\": [],\n",
      "        \"connectionStatus\": \"Connected\",\n",
      "        \"ingressBytesTransferred\": 697416,\n",
      "        \"egressBytesTransferred\": 5775128,\n",
      "        \"expressRouteGatewayBypass\": false\n",
      "    }\n",
      "}\n"
     ]
    }
   ],
   "source": [
    "print (json.dumps(jsdata, indent=4))"
   ]
  },
  {
   "cell_type": "code",
   "execution_count": 73,
   "metadata": {},
   "outputs": [
    {
     "name": "stdout",
     "output_type": "stream",
     "text": [
      "Connected\n",
      "0.6651077270507812\n",
      "5.507591247558594\n"
     ]
    }
   ],
   "source": [
    "properties = jsdata['properties']\n",
    "print (properties['connectionStatus'])\n",
    "print (properties['ingressBytesTransferred'] / 1024.0 / 1024.0)\n",
    "print (properties['egressBytesTransferred'] / 1024.0 / 1024.0)"
   ]
  },
  {
   "cell_type": "code",
   "execution_count": 74,
   "metadata": {},
   "outputs": [
    {
     "name": "stdout",
     "output_type": "stream",
     "text": [
      "200\n",
      "{\n",
      "    \"name\": \"lab2-meraki-sdwan\",\n",
      "    \"id\": \"/subscriptions/a8682560-0e6b-4834-accf-21ff95b29125/resourceGroups/delphae-freetrail/providers/Microsoft.Network/localNetworkGateways/lab2-meraki-sdwan\",\n",
      "    \"etag\": \"W/\\\"191f5411-3325-4403-bd60-670914c7bd61\\\"\",\n",
      "    \"type\": \"Microsoft.Network/localNetworkGateways\",\n",
      "    \"location\": \"westeurope\",\n",
      "    \"properties\": {\n",
      "        \"provisioningState\": \"Succeeded\",\n",
      "        \"resourceGuid\": \"3e7c0b0a-6e51-417a-8b47-bbe8b8dd8d27\",\n",
      "        \"localNetworkAddressSpace\": {\n",
      "            \"addressPrefixes\": [\n",
      "                \"192.168.64.0/24\"\n",
      "            ]\n",
      "        },\n",
      "        \"gatewayIpAddress\": \"84.31.151.136\"\n",
      "    }\n",
      "}\n"
     ]
    }
   ],
   "source": [
    "# localNetworkGateways\n",
    "url = 'https://management.azure.com/subscriptions/a8682560-0e6b-4834-accf-21ff95b29125/resourceGroups/delphae-freetrail/providers/Microsoft.Network/localNetworkGateways?api-version=2018-07-01'\n",
    "\n",
    "response = requests.get(url, headers=headers)\n",
    "print (response.status_code)\n",
    "jsdata = response.json()\n",
    "print (json.dumps(jsdata['value'][0], indent=4))\n"
   ]
  },
  {
   "cell_type": "code",
   "execution_count": 78,
   "metadata": {},
   "outputs": [
    {
     "name": "stdout",
     "output_type": "stream",
     "text": [
      "lab2-meraki-sdwan   {'addressPrefixes': ['192.168.64.0/24']}\n",
      "lab2-meraki-sdwan   84.31.151.136\n"
     ]
    }
   ],
   "source": [
    "localgw = jsdata['value'][0]\n",
    "print ('{:20}{}'.format(localgw['name'], localgw['properties']['localNetworkAddressSpace']))\n",
    "print ('{:20}{}'.format(localgw['name'], localgw['properties']['gatewayIpAddress']))"
   ]
  },
  {
   "cell_type": "code",
   "execution_count": 27,
   "metadata": {},
   "outputs": [
    {
     "name": "stdout",
     "output_type": "stream",
     "text": [
      "200\n"
     ]
    }
   ],
   "source": [
    "# resources\n",
    "\n",
    "url = 'https://management.azure.com/subscriptions/a8682560-0e6b-4834-accf-21ff95b29125/resources?api-version=2017-05-10'\n",
    "response = requests.get(url, headers=headers)\n",
    "print (response.status_code)\n",
    "jsdata = response.json()\n",
    "data = jsdata['value']\n",
    "\n",
    "df = pd.DataFrame(data)"
   ]
  },
  {
   "cell_type": "code",
   "execution_count": 28,
   "metadata": {},
   "outputs": [
    {
     "data": {
      "text/html": [
       "<div>\n",
       "<style scoped>\n",
       "    .dataframe tbody tr th:only-of-type {\n",
       "        vertical-align: middle;\n",
       "    }\n",
       "\n",
       "    .dataframe tbody tr th {\n",
       "        vertical-align: top;\n",
       "    }\n",
       "\n",
       "    .dataframe thead th {\n",
       "        text-align: right;\n",
       "    }\n",
       "</style>\n",
       "<table border=\"1\" class=\"dataframe\">\n",
       "  <thead>\n",
       "    <tr style=\"text-align: right;\">\n",
       "      <th></th>\n",
       "      <th>name</th>\n",
       "      <th>type</th>\n",
       "      <th>location</th>\n",
       "    </tr>\n",
       "  </thead>\n",
       "  <tbody>\n",
       "    <tr>\n",
       "      <th>6</th>\n",
       "      <td>azure-fr-ubuntu-07</td>\n",
       "      <td>Microsoft.Compute/virtualMachines</td>\n",
       "      <td>francecentral</td>\n",
       "    </tr>\n",
       "    <tr>\n",
       "      <th>7</th>\n",
       "      <td>azure-ie-ubuntu-03</td>\n",
       "      <td>Microsoft.Compute/virtualMachines</td>\n",
       "      <td>northeurope</td>\n",
       "    </tr>\n",
       "    <tr>\n",
       "      <th>8</th>\n",
       "      <td>azure-nl-ubuntu-01</td>\n",
       "      <td>Microsoft.Compute/virtualMachines</td>\n",
       "      <td>westeurope</td>\n",
       "    </tr>\n",
       "    <tr>\n",
       "      <th>9</th>\n",
       "      <td>azure-uk-ubuntu-04</td>\n",
       "      <td>Microsoft.Compute/virtualMachines</td>\n",
       "      <td>ukwest</td>\n",
       "    </tr>\n",
       "  </tbody>\n",
       "</table>\n",
       "</div>"
      ],
      "text/plain": [
       "                 name                               type       location\n",
       "6  azure-fr-ubuntu-07  Microsoft.Compute/virtualMachines  francecentral\n",
       "7  azure-ie-ubuntu-03  Microsoft.Compute/virtualMachines    northeurope\n",
       "8  azure-nl-ubuntu-01  Microsoft.Compute/virtualMachines     westeurope\n",
       "9  azure-uk-ubuntu-04  Microsoft.Compute/virtualMachines         ukwest"
      ]
     },
     "execution_count": 28,
     "metadata": {},
     "output_type": "execute_result"
    }
   ],
   "source": [
    "df[['name','type','location']][df.type=='Microsoft.Compute/virtualMachines']"
   ]
  },
  {
   "cell_type": "code",
   "execution_count": 29,
   "metadata": {},
   "outputs": [
    {
     "data": {
      "text/html": [
       "<div>\n",
       "<style scoped>\n",
       "    .dataframe tbody tr th:only-of-type {\n",
       "        vertical-align: middle;\n",
       "    }\n",
       "\n",
       "    .dataframe tbody tr th {\n",
       "        vertical-align: top;\n",
       "    }\n",
       "\n",
       "    .dataframe thead th {\n",
       "        text-align: right;\n",
       "    }\n",
       "</style>\n",
       "<table border=\"1\" class=\"dataframe\">\n",
       "  <thead>\n",
       "    <tr style=\"text-align: right;\">\n",
       "      <th></th>\n",
       "      <th>name</th>\n",
       "      <th>type</th>\n",
       "      <th>location</th>\n",
       "    </tr>\n",
       "  </thead>\n",
       "  <tbody>\n",
       "    <tr>\n",
       "      <th>15</th>\n",
       "      <td>azure-asus-rtr</td>\n",
       "      <td>Microsoft.Network/localNetworkGateways</td>\n",
       "      <td>ukwest</td>\n",
       "    </tr>\n",
       "    <tr>\n",
       "      <th>16</th>\n",
       "      <td>lab2-meraki-sdwan</td>\n",
       "      <td>Microsoft.Network/localNetworkGateways</td>\n",
       "      <td>westeurope</td>\n",
       "    </tr>\n",
       "  </tbody>\n",
       "</table>\n",
       "</div>"
      ],
      "text/plain": [
       "                 name                                    type    location\n",
       "15     azure-asus-rtr  Microsoft.Network/localNetworkGateways      ukwest\n",
       "16  lab2-meraki-sdwan  Microsoft.Network/localNetworkGateways  westeurope"
      ]
     },
     "execution_count": 29,
     "metadata": {},
     "output_type": "execute_result"
    }
   ],
   "source": [
    "df[['name','type','location']][df.type=='Microsoft.Network/localNetworkGateways']"
   ]
  },
  {
   "cell_type": "code",
   "execution_count": 30,
   "metadata": {},
   "outputs": [
    {
     "data": {
      "text/html": [
       "<div>\n",
       "<style scoped>\n",
       "    .dataframe tbody tr th:only-of-type {\n",
       "        vertical-align: middle;\n",
       "    }\n",
       "\n",
       "    .dataframe tbody tr th {\n",
       "        vertical-align: top;\n",
       "    }\n",
       "\n",
       "    .dataframe thead th {\n",
       "        text-align: right;\n",
       "    }\n",
       "</style>\n",
       "<table border=\"1\" class=\"dataframe\">\n",
       "  <thead>\n",
       "    <tr style=\"text-align: right;\">\n",
       "      <th></th>\n",
       "      <th>name</th>\n",
       "      <th>type</th>\n",
       "      <th>location</th>\n",
       "    </tr>\n",
       "  </thead>\n",
       "  <tbody>\n",
       "    <tr>\n",
       "      <th>31</th>\n",
       "      <td>lab2-vnet-gw</td>\n",
       "      <td>Microsoft.Network/virtualNetworkGateways</td>\n",
       "      <td>westeurope</td>\n",
       "    </tr>\n",
       "  </tbody>\n",
       "</table>\n",
       "</div>"
      ],
      "text/plain": [
       "            name                                      type    location\n",
       "31  lab2-vnet-gw  Microsoft.Network/virtualNetworkGateways  westeurope"
      ]
     },
     "execution_count": 30,
     "metadata": {},
     "output_type": "execute_result"
    }
   ],
   "source": [
    "df[['name','type','location']][df.type=='Microsoft.Network/virtualNetworkGateways']"
   ]
  },
  {
   "cell_type": "code",
   "execution_count": 32,
   "metadata": {},
   "outputs": [
    {
     "data": {
      "text/html": [
       "<div>\n",
       "<style scoped>\n",
       "    .dataframe tbody tr th:only-of-type {\n",
       "        vertical-align: middle;\n",
       "    }\n",
       "\n",
       "    .dataframe tbody tr th {\n",
       "        vertical-align: top;\n",
       "    }\n",
       "\n",
       "    .dataframe thead th {\n",
       "        text-align: right;\n",
       "    }\n",
       "</style>\n",
       "<table border=\"1\" class=\"dataframe\">\n",
       "  <thead>\n",
       "    <tr style=\"text-align: right;\">\n",
       "      <th></th>\n",
       "      <th>name</th>\n",
       "      <th>type</th>\n",
       "      <th>location</th>\n",
       "    </tr>\n",
       "  </thead>\n",
       "  <tbody>\n",
       "    <tr>\n",
       "      <th>14</th>\n",
       "      <td>lab2-meraki-vpn</td>\n",
       "      <td>Microsoft.Network/connections</td>\n",
       "      <td>westeurope</td>\n",
       "    </tr>\n",
       "  </tbody>\n",
       "</table>\n",
       "</div>"
      ],
      "text/plain": [
       "               name                           type    location\n",
       "14  lab2-meraki-vpn  Microsoft.Network/connections  westeurope"
      ]
     },
     "execution_count": 32,
     "metadata": {},
     "output_type": "execute_result"
    }
   ],
   "source": [
    "df[['name','type','location']][df.type=='Microsoft.Network/connections']"
   ]
  },
  {
   "cell_type": "code",
   "execution_count": 20,
   "metadata": {},
   "outputs": [
    {
     "data": {
      "text/html": [
       "<div>\n",
       "<style scoped>\n",
       "    .dataframe tbody tr th:only-of-type {\n",
       "        vertical-align: middle;\n",
       "    }\n",
       "\n",
       "    .dataframe tbody tr th {\n",
       "        vertical-align: top;\n",
       "    }\n",
       "\n",
       "    .dataframe thead th {\n",
       "        text-align: right;\n",
       "    }\n",
       "</style>\n",
       "<table border=\"1\" class=\"dataframe\">\n",
       "  <thead>\n",
       "    <tr style=\"text-align: right;\">\n",
       "      <th></th>\n",
       "      <th>name</th>\n",
       "      <th>type</th>\n",
       "      <th>location</th>\n",
       "    </tr>\n",
       "  </thead>\n",
       "  <tbody>\n",
       "    <tr>\n",
       "      <th>0</th>\n",
       "      <td>csba86825600e6bx4834xacc</td>\n",
       "      <td>Microsoft.Storage/storageAccounts</td>\n",
       "      <td>westeurope</td>\n",
       "    </tr>\n",
       "    <tr>\n",
       "      <th>1</th>\n",
       "      <td>azure-fr-ubuntu-07_OsDisk_1_046af4b0b18543bcbf...</td>\n",
       "      <td>Microsoft.Compute/disks</td>\n",
       "      <td>francecentral</td>\n",
       "    </tr>\n",
       "    <tr>\n",
       "      <th>2</th>\n",
       "      <td>azure-ie-ubuntu-03_OsDisk_1_cecbf9731d22446296...</td>\n",
       "      <td>Microsoft.Compute/disks</td>\n",
       "      <td>northeurope</td>\n",
       "    </tr>\n",
       "    <tr>\n",
       "      <th>3</th>\n",
       "      <td>azure-nl-ubuntu-01_disk1_d32585eddccc4135b57d4...</td>\n",
       "      <td>Microsoft.Compute/disks</td>\n",
       "      <td>westeurope</td>\n",
       "    </tr>\n",
       "    <tr>\n",
       "      <th>4</th>\n",
       "      <td>azure-uk-ubuntu-02_OsDisk_1_649bf025e42841feaf...</td>\n",
       "      <td>Microsoft.Compute/disks</td>\n",
       "      <td>northeurope</td>\n",
       "    </tr>\n",
       "    <tr>\n",
       "      <th>5</th>\n",
       "      <td>azure-uk-ubuntu-04_OsDisk_1_48bda43803444f36b4...</td>\n",
       "      <td>Microsoft.Compute/disks</td>\n",
       "      <td>ukwest</td>\n",
       "    </tr>\n",
       "    <tr>\n",
       "      <th>6</th>\n",
       "      <td>azure-fr-ubuntu-07</td>\n",
       "      <td>Microsoft.Compute/virtualMachines</td>\n",
       "      <td>francecentral</td>\n",
       "    </tr>\n",
       "    <tr>\n",
       "      <th>7</th>\n",
       "      <td>azure-ie-ubuntu-03</td>\n",
       "      <td>Microsoft.Compute/virtualMachines</td>\n",
       "      <td>northeurope</td>\n",
       "    </tr>\n",
       "    <tr>\n",
       "      <th>8</th>\n",
       "      <td>azure-nl-ubuntu-01</td>\n",
       "      <td>Microsoft.Compute/virtualMachines</td>\n",
       "      <td>westeurope</td>\n",
       "    </tr>\n",
       "    <tr>\n",
       "      <th>9</th>\n",
       "      <td>azure-uk-ubuntu-04</td>\n",
       "      <td>Microsoft.Compute/virtualMachines</td>\n",
       "      <td>ukwest</td>\n",
       "    </tr>\n",
       "    <tr>\n",
       "      <th>10</th>\n",
       "      <td>shutdown-computevm-azure-fr-ubuntu-07</td>\n",
       "      <td>Microsoft.DevTestLab/schedules</td>\n",
       "      <td>francecentral</td>\n",
       "    </tr>\n",
       "    <tr>\n",
       "      <th>11</th>\n",
       "      <td>shutdown-computevm-azure-ie-ubuntu-03</td>\n",
       "      <td>Microsoft.DevTestLab/schedules</td>\n",
       "      <td>northeurope</td>\n",
       "    </tr>\n",
       "    <tr>\n",
       "      <th>12</th>\n",
       "      <td>shutdown-computevm-azure-nl-ubuntu-01</td>\n",
       "      <td>Microsoft.DevTestLab/schedules</td>\n",
       "      <td>westeurope</td>\n",
       "    </tr>\n",
       "    <tr>\n",
       "      <th>13</th>\n",
       "      <td>shutdown-computevm-azure-uk-ubuntu-04</td>\n",
       "      <td>Microsoft.DevTestLab/schedules</td>\n",
       "      <td>ukwest</td>\n",
       "    </tr>\n",
       "    <tr>\n",
       "      <th>14</th>\n",
       "      <td>lab2-meraki-vpn</td>\n",
       "      <td>Microsoft.Network/connections</td>\n",
       "      <td>westeurope</td>\n",
       "    </tr>\n",
       "    <tr>\n",
       "      <th>15</th>\n",
       "      <td>azure-asus-rtr</td>\n",
       "      <td>Microsoft.Network/localNetworkGateways</td>\n",
       "      <td>ukwest</td>\n",
       "    </tr>\n",
       "    <tr>\n",
       "      <th>16</th>\n",
       "      <td>lab2-meraki-sdwan</td>\n",
       "      <td>Microsoft.Network/localNetworkGateways</td>\n",
       "      <td>westeurope</td>\n",
       "    </tr>\n",
       "    <tr>\n",
       "      <th>17</th>\n",
       "      <td>azure-fr-ubuntu-07943</td>\n",
       "      <td>Microsoft.Network/networkInterfaces</td>\n",
       "      <td>francecentral</td>\n",
       "    </tr>\n",
       "    <tr>\n",
       "      <th>18</th>\n",
       "      <td>azure-ie-ubuntu-03866</td>\n",
       "      <td>Microsoft.Network/networkInterfaces</td>\n",
       "      <td>northeurope</td>\n",
       "    </tr>\n",
       "    <tr>\n",
       "      <th>19</th>\n",
       "      <td>azure-nl-ubuntu-01191</td>\n",
       "      <td>Microsoft.Network/networkInterfaces</td>\n",
       "      <td>westeurope</td>\n",
       "    </tr>\n",
       "    <tr>\n",
       "      <th>20</th>\n",
       "      <td>azure-uk-ubuntu-0488</td>\n",
       "      <td>Microsoft.Network/networkInterfaces</td>\n",
       "      <td>ukwest</td>\n",
       "    </tr>\n",
       "    <tr>\n",
       "      <th>21</th>\n",
       "      <td>azure-fr-ubuntu-07-nsg</td>\n",
       "      <td>Microsoft.Network/networkSecurityGroups</td>\n",
       "      <td>francecentral</td>\n",
       "    </tr>\n",
       "    <tr>\n",
       "      <th>22</th>\n",
       "      <td>azure-ie-ubuntu-03-nsg</td>\n",
       "      <td>Microsoft.Network/networkSecurityGroups</td>\n",
       "      <td>northeurope</td>\n",
       "    </tr>\n",
       "    <tr>\n",
       "      <th>23</th>\n",
       "      <td>azure-nl-ubuntu-01-nsg</td>\n",
       "      <td>Microsoft.Network/networkSecurityGroups</td>\n",
       "      <td>westeurope</td>\n",
       "    </tr>\n",
       "    <tr>\n",
       "      <th>24</th>\n",
       "      <td>azure-uk-ubuntu-02-nsg</td>\n",
       "      <td>Microsoft.Network/networkSecurityGroups</td>\n",
       "      <td>northeurope</td>\n",
       "    </tr>\n",
       "    <tr>\n",
       "      <th>25</th>\n",
       "      <td>azure-uk-ubuntu-04-nsg</td>\n",
       "      <td>Microsoft.Network/networkSecurityGroups</td>\n",
       "      <td>ukwest</td>\n",
       "    </tr>\n",
       "    <tr>\n",
       "      <th>26</th>\n",
       "      <td>azure-fr-ubuntu-07-ip</td>\n",
       "      <td>Microsoft.Network/publicIPAddresses</td>\n",
       "      <td>francecentral</td>\n",
       "    </tr>\n",
       "    <tr>\n",
       "      <th>27</th>\n",
       "      <td>azure-ie-ubuntu-03-ip</td>\n",
       "      <td>Microsoft.Network/publicIPAddresses</td>\n",
       "      <td>northeurope</td>\n",
       "    </tr>\n",
       "    <tr>\n",
       "      <th>28</th>\n",
       "      <td>azure-nl-ubuntu-01-ip</td>\n",
       "      <td>Microsoft.Network/publicIPAddresses</td>\n",
       "      <td>westeurope</td>\n",
       "    </tr>\n",
       "    <tr>\n",
       "      <th>29</th>\n",
       "      <td>azure-uk-ubuntu-04-ip</td>\n",
       "      <td>Microsoft.Network/publicIPAddresses</td>\n",
       "      <td>ukwest</td>\n",
       "    </tr>\n",
       "    <tr>\n",
       "      <th>30</th>\n",
       "      <td>lab2-vnet-ip</td>\n",
       "      <td>Microsoft.Network/publicIPAddresses</td>\n",
       "      <td>westeurope</td>\n",
       "    </tr>\n",
       "    <tr>\n",
       "      <th>31</th>\n",
       "      <td>lab2-vnet-gw</td>\n",
       "      <td>Microsoft.Network/virtualNetworkGateways</td>\n",
       "      <td>westeurope</td>\n",
       "    </tr>\n",
       "    <tr>\n",
       "      <th>32</th>\n",
       "      <td>azure-fr-vnet-08</td>\n",
       "      <td>Microsoft.Network/virtualNetworks</td>\n",
       "      <td>francecentral</td>\n",
       "    </tr>\n",
       "    <tr>\n",
       "      <th>33</th>\n",
       "      <td>azure-ie-vnet-01</td>\n",
       "      <td>Microsoft.Network/virtualNetworks</td>\n",
       "      <td>northeurope</td>\n",
       "    </tr>\n",
       "    <tr>\n",
       "      <th>34</th>\n",
       "      <td>azure-uk-vnet-04</td>\n",
       "      <td>Microsoft.Network/virtualNetworks</td>\n",
       "      <td>ukwest</td>\n",
       "    </tr>\n",
       "    <tr>\n",
       "      <th>35</th>\n",
       "      <td>labsource-vnet</td>\n",
       "      <td>Microsoft.Network/virtualNetworks</td>\n",
       "      <td>westeurope</td>\n",
       "    </tr>\n",
       "    <tr>\n",
       "      <th>36</th>\n",
       "      <td>delphaefreetraildiag</td>\n",
       "      <td>Microsoft.Storage/storageAccounts</td>\n",
       "      <td>westeurope</td>\n",
       "    </tr>\n",
       "    <tr>\n",
       "      <th>37</th>\n",
       "      <td>delphaefreetraildiag131</td>\n",
       "      <td>Microsoft.Storage/storageAccounts</td>\n",
       "      <td>northeurope</td>\n",
       "    </tr>\n",
       "    <tr>\n",
       "      <th>38</th>\n",
       "      <td>delphaefreetraildiag593</td>\n",
       "      <td>Microsoft.Storage/storageAccounts</td>\n",
       "      <td>francecentral</td>\n",
       "    </tr>\n",
       "    <tr>\n",
       "      <th>39</th>\n",
       "      <td>delphaefreetraildiag631</td>\n",
       "      <td>Microsoft.Storage/storageAccounts</td>\n",
       "      <td>ukwest</td>\n",
       "    </tr>\n",
       "    <tr>\n",
       "      <th>40</th>\n",
       "      <td>NetworkWatcher_centralus</td>\n",
       "      <td>Microsoft.Network/networkWatchers</td>\n",
       "      <td>centralus</td>\n",
       "    </tr>\n",
       "    <tr>\n",
       "      <th>41</th>\n",
       "      <td>NetworkWatcher_francecentral</td>\n",
       "      <td>Microsoft.Network/networkWatchers</td>\n",
       "      <td>francecentral</td>\n",
       "    </tr>\n",
       "    <tr>\n",
       "      <th>42</th>\n",
       "      <td>NetworkWatcher_northeurope</td>\n",
       "      <td>Microsoft.Network/networkWatchers</td>\n",
       "      <td>northeurope</td>\n",
       "    </tr>\n",
       "    <tr>\n",
       "      <th>43</th>\n",
       "      <td>NetworkWatcher_ukwest</td>\n",
       "      <td>Microsoft.Network/networkWatchers</td>\n",
       "      <td>ukwest</td>\n",
       "    </tr>\n",
       "    <tr>\n",
       "      <th>44</th>\n",
       "      <td>NetworkWatcher_westeurope</td>\n",
       "      <td>Microsoft.Network/networkWatchers</td>\n",
       "      <td>westeurope</td>\n",
       "    </tr>\n",
       "    <tr>\n",
       "      <th>45</th>\n",
       "      <td>NetworkWatcher_westus2</td>\n",
       "      <td>Microsoft.Network/networkWatchers</td>\n",
       "      <td>westus2</td>\n",
       "    </tr>\n",
       "  </tbody>\n",
       "</table>\n",
       "</div>"
      ],
      "text/plain": [
       "                                                 name  \\\n",
       "0                            csba86825600e6bx4834xacc   \n",
       "1   azure-fr-ubuntu-07_OsDisk_1_046af4b0b18543bcbf...   \n",
       "2   azure-ie-ubuntu-03_OsDisk_1_cecbf9731d22446296...   \n",
       "3   azure-nl-ubuntu-01_disk1_d32585eddccc4135b57d4...   \n",
       "4   azure-uk-ubuntu-02_OsDisk_1_649bf025e42841feaf...   \n",
       "5   azure-uk-ubuntu-04_OsDisk_1_48bda43803444f36b4...   \n",
       "6                                  azure-fr-ubuntu-07   \n",
       "7                                  azure-ie-ubuntu-03   \n",
       "8                                  azure-nl-ubuntu-01   \n",
       "9                                  azure-uk-ubuntu-04   \n",
       "10              shutdown-computevm-azure-fr-ubuntu-07   \n",
       "11              shutdown-computevm-azure-ie-ubuntu-03   \n",
       "12              shutdown-computevm-azure-nl-ubuntu-01   \n",
       "13              shutdown-computevm-azure-uk-ubuntu-04   \n",
       "14                                    lab2-meraki-vpn   \n",
       "15                                     azure-asus-rtr   \n",
       "16                                  lab2-meraki-sdwan   \n",
       "17                              azure-fr-ubuntu-07943   \n",
       "18                              azure-ie-ubuntu-03866   \n",
       "19                              azure-nl-ubuntu-01191   \n",
       "20                               azure-uk-ubuntu-0488   \n",
       "21                             azure-fr-ubuntu-07-nsg   \n",
       "22                             azure-ie-ubuntu-03-nsg   \n",
       "23                             azure-nl-ubuntu-01-nsg   \n",
       "24                             azure-uk-ubuntu-02-nsg   \n",
       "25                             azure-uk-ubuntu-04-nsg   \n",
       "26                              azure-fr-ubuntu-07-ip   \n",
       "27                              azure-ie-ubuntu-03-ip   \n",
       "28                              azure-nl-ubuntu-01-ip   \n",
       "29                              azure-uk-ubuntu-04-ip   \n",
       "30                                       lab2-vnet-ip   \n",
       "31                                       lab2-vnet-gw   \n",
       "32                                   azure-fr-vnet-08   \n",
       "33                                   azure-ie-vnet-01   \n",
       "34                                   azure-uk-vnet-04   \n",
       "35                                     labsource-vnet   \n",
       "36                               delphaefreetraildiag   \n",
       "37                            delphaefreetraildiag131   \n",
       "38                            delphaefreetraildiag593   \n",
       "39                            delphaefreetraildiag631   \n",
       "40                           NetworkWatcher_centralus   \n",
       "41                       NetworkWatcher_francecentral   \n",
       "42                         NetworkWatcher_northeurope   \n",
       "43                              NetworkWatcher_ukwest   \n",
       "44                          NetworkWatcher_westeurope   \n",
       "45                             NetworkWatcher_westus2   \n",
       "\n",
       "                                        type       location  \n",
       "0          Microsoft.Storage/storageAccounts     westeurope  \n",
       "1                    Microsoft.Compute/disks  francecentral  \n",
       "2                    Microsoft.Compute/disks    northeurope  \n",
       "3                    Microsoft.Compute/disks     westeurope  \n",
       "4                    Microsoft.Compute/disks    northeurope  \n",
       "5                    Microsoft.Compute/disks         ukwest  \n",
       "6          Microsoft.Compute/virtualMachines  francecentral  \n",
       "7          Microsoft.Compute/virtualMachines    northeurope  \n",
       "8          Microsoft.Compute/virtualMachines     westeurope  \n",
       "9          Microsoft.Compute/virtualMachines         ukwest  \n",
       "10            Microsoft.DevTestLab/schedules  francecentral  \n",
       "11            Microsoft.DevTestLab/schedules    northeurope  \n",
       "12            Microsoft.DevTestLab/schedules     westeurope  \n",
       "13            Microsoft.DevTestLab/schedules         ukwest  \n",
       "14             Microsoft.Network/connections     westeurope  \n",
       "15    Microsoft.Network/localNetworkGateways         ukwest  \n",
       "16    Microsoft.Network/localNetworkGateways     westeurope  \n",
       "17       Microsoft.Network/networkInterfaces  francecentral  \n",
       "18       Microsoft.Network/networkInterfaces    northeurope  \n",
       "19       Microsoft.Network/networkInterfaces     westeurope  \n",
       "20       Microsoft.Network/networkInterfaces         ukwest  \n",
       "21   Microsoft.Network/networkSecurityGroups  francecentral  \n",
       "22   Microsoft.Network/networkSecurityGroups    northeurope  \n",
       "23   Microsoft.Network/networkSecurityGroups     westeurope  \n",
       "24   Microsoft.Network/networkSecurityGroups    northeurope  \n",
       "25   Microsoft.Network/networkSecurityGroups         ukwest  \n",
       "26       Microsoft.Network/publicIPAddresses  francecentral  \n",
       "27       Microsoft.Network/publicIPAddresses    northeurope  \n",
       "28       Microsoft.Network/publicIPAddresses     westeurope  \n",
       "29       Microsoft.Network/publicIPAddresses         ukwest  \n",
       "30       Microsoft.Network/publicIPAddresses     westeurope  \n",
       "31  Microsoft.Network/virtualNetworkGateways     westeurope  \n",
       "32         Microsoft.Network/virtualNetworks  francecentral  \n",
       "33         Microsoft.Network/virtualNetworks    northeurope  \n",
       "34         Microsoft.Network/virtualNetworks         ukwest  \n",
       "35         Microsoft.Network/virtualNetworks     westeurope  \n",
       "36         Microsoft.Storage/storageAccounts     westeurope  \n",
       "37         Microsoft.Storage/storageAccounts    northeurope  \n",
       "38         Microsoft.Storage/storageAccounts  francecentral  \n",
       "39         Microsoft.Storage/storageAccounts         ukwest  \n",
       "40         Microsoft.Network/networkWatchers      centralus  \n",
       "41         Microsoft.Network/networkWatchers  francecentral  \n",
       "42         Microsoft.Network/networkWatchers    northeurope  \n",
       "43         Microsoft.Network/networkWatchers         ukwest  \n",
       "44         Microsoft.Network/networkWatchers     westeurope  \n",
       "45         Microsoft.Network/networkWatchers        westus2  "
      ]
     },
     "execution_count": 20,
     "metadata": {},
     "output_type": "execute_result"
    }
   ],
   "source": [
    "df[['name','type','location']]"
   ]
  },
  {
   "cell_type": "code",
   "execution_count": 53,
   "metadata": {},
   "outputs": [
    {
     "name": "stdout",
     "output_type": "stream",
     "text": [
      "200\n"
     ]
    }
   ],
   "source": [
    "# public IP addresses\n",
    "\n",
    "url = 'https://management.azure.com/subscriptions/a8682560-0e6b-4834-accf-21ff95b29125/resourceGroups/delphae-freetrail/providers/Microsoft.Network/publicIPAddresses?api-version=2018-07-01'\n",
    "response = requests.get(url, headers=headers)\n",
    "print (response.status_code)\n",
    "jsdata = response.json()\n",
    "data = jsdata['value']\n",
    "\n",
    "df = pd.DataFrame(data)"
   ]
  },
  {
   "cell_type": "code",
   "execution_count": 65,
   "metadata": {},
   "outputs": [
    {
     "name": "stdout",
     "output_type": "stream",
     "text": [
      "azure-nl-ubuntu-01-ip    westeurope     52.166.37.193\n",
      "lab2-vnet-ip             westeurope     52.178.29.168\n"
     ]
    }
   ],
   "source": [
    "for item in data:\n",
    "    try:\n",
    "        properties = item['properties']\n",
    "        print ('{:25s}{:15s}{}'.format(item['name'], item['location'], properties['ipAddress']))\n",
    "    except:\n",
    "        pass"
   ]
  },
  {
   "cell_type": "code",
   "execution_count": null,
   "metadata": {},
   "outputs": [],
   "source": []
  },
  {
   "cell_type": "code",
   "execution_count": 208,
   "metadata": {},
   "outputs": [
    {
     "name": "stdout",
     "output_type": "stream",
     "text": [
      "200\n",
      "virtualnet: azure-ie-vnet-01    10.1.0.0/16\n",
      "subnet: azure-ie-subnet-01      10.1.0.0/24\n",
      "subnet: GatewaySubnet           10.1.1.0/24\n",
      "\n",
      "virtualnet: labsource-vnet      10.3.1.0/24\n",
      "subnet: labsubnet               10.3.1.0/25\n",
      "subnet: GatewaySubnet           10.3.1.128/28\n",
      "\n",
      "virtualnet: azure-uk-vnet-04    10.8.0.0/16\n",
      "subnet: azure-uk-subnet-06      10.8.0.0/24\n",
      "subnet: GatewaySubnet           10.8.1.0/24\n",
      "\n",
      "virtualnet: azure-fr-vnet-08    10.5.0.0/16\n",
      "subnet: azure-fr-subnet-07      10.5.0.0/24\n",
      "\n"
     ]
    }
   ],
   "source": [
    "# virtual networks\n",
    "\n",
    "url = 'https://management.azure.com/subscriptions/a8682560-0e6b-4834-accf-21ff95b29125/providers/Microsoft.Network/virtualNetworks?api-version=2018-07-01'\n",
    "response = requests.get(url, headers=headers)\n",
    "print (response.status_code)\n",
    "jsdata = response.json()\n",
    "data = jsdata['value']\n",
    "#print (json.dumps(data[0], indent=4))\n",
    "\n",
    "\n",
    "for virtnet in data:\n",
    "    properties = virtnet['properties']\n",
    "    print ('virtualnet: {:20}{}'.format(virtnet['name'], properties['addressSpace']['addressPrefixes'][0]))\n",
    "    subnets = properties['subnets']\n",
    "    for subnet in subnets:\n",
    "        print ('subnet: {:24}{}'.format(subnet['name'], subnet['properties']['addressPrefix']))\n",
    "    print ()"
   ]
  },
  {
   "cell_type": "markdown",
   "metadata": {},
   "source": [
    "### Create a Resoure Group"
   ]
  },
  {
   "cell_type": "code",
   "execution_count": 98,
   "metadata": {},
   "outputs": [],
   "source": [
    "import numpy as np"
   ]
  },
  {
   "cell_type": "code",
   "execution_count": 148,
   "metadata": {},
   "outputs": [
    {
     "name": "stdout",
     "output_type": "stream",
     "text": [
      "201\n",
      "{\n",
      "    \"id\": \"/subscriptions/a8682560-0e6b-4834-accf-21ff95b29125/resourceGroups/azure-lab4-apitest077\",\n",
      "    \"name\": \"azure-lab4-apitest077\",\n",
      "    \"location\": \"westeurope\",\n",
      "    \"properties\": {\n",
      "        \"provisioningState\": \"Succeeded\"\n",
      "    }\n",
      "}\n"
     ]
    }
   ],
   "source": [
    "resource_group_name = 'azure-lab4-apitest%03d' % np.random.randint(100)\n",
    "\n",
    "url = \"https://management.azure.com/subscriptions/\" + azure_subscription_id + \"/resourcegroups/\" + resource_group_name + \"?api-version=2017-05-10\"\n",
    "headers = { 'Authorization': 'Bearer ' + access_token, 'Content-Type': 'application/json' }\n",
    "body = { 'name': resource_group_name, 'location': 'westeurope' }\n",
    "response = requests.put(url, data=json.dumps(body), headers=headers)\n",
    "print (response.status_code)\n",
    "\n",
    "\n",
    "print (json.dumps(response.json(), indent=4))"
   ]
  },
  {
   "cell_type": "code",
   "execution_count": 171,
   "metadata": {},
   "outputs": [
    {
     "name": "stdout",
     "output_type": "stream",
     "text": [
      "200\n"
     ]
    },
    {
     "data": {
      "text/html": [
       "<div>\n",
       "<style scoped>\n",
       "    .dataframe tbody tr th:only-of-type {\n",
       "        vertical-align: middle;\n",
       "    }\n",
       "\n",
       "    .dataframe tbody tr th {\n",
       "        vertical-align: top;\n",
       "    }\n",
       "\n",
       "    .dataframe thead th {\n",
       "        text-align: right;\n",
       "    }\n",
       "</style>\n",
       "<table border=\"1\" class=\"dataframe\">\n",
       "  <thead>\n",
       "    <tr style=\"text-align: right;\">\n",
       "      <th></th>\n",
       "      <th>name</th>\n",
       "      <th>location</th>\n",
       "    </tr>\n",
       "  </thead>\n",
       "  <tbody>\n",
       "    <tr>\n",
       "      <th>0</th>\n",
       "      <td>cloud-shell-storage-westeurope</td>\n",
       "      <td>westeurope</td>\n",
       "    </tr>\n",
       "    <tr>\n",
       "      <th>1</th>\n",
       "      <td>delphae-freetrail</td>\n",
       "      <td>westeurope</td>\n",
       "    </tr>\n",
       "    <tr>\n",
       "      <th>2</th>\n",
       "      <td>NetworkWatcherRG</td>\n",
       "      <td>westeurope</td>\n",
       "    </tr>\n",
       "  </tbody>\n",
       "</table>\n",
       "</div>"
      ],
      "text/plain": [
       "                             name    location\n",
       "0  cloud-shell-storage-westeurope  westeurope\n",
       "1               delphae-freetrail  westeurope\n",
       "2                NetworkWatcherRG  westeurope"
      ]
     },
     "execution_count": 171,
     "metadata": {},
     "output_type": "execute_result"
    }
   ],
   "source": [
    "# resource groups\n",
    "\n",
    "url = \"https://management.azure.com/subscriptions/a8682560-0e6b-4834-accf-21ff95b29125/resourceGroups?api-version=2014-04-01\"\n",
    "#print (url)\n",
    "response = requests.get(url, headers=headers, timeout=5)\n",
    "print (response.status_code)\n",
    "if response.status_code!=200:\n",
    "    print (response.text)\n",
    "jsdata = response.json()\n",
    "#print (json.dumps(jsdata['value'], indent=4))\n",
    "pd.DataFrame(jsdata['value'])[['name','location']]"
   ]
  },
  {
   "cell_type": "markdown",
   "metadata": {},
   "source": [
    "### Delete a Resoure Group"
   ]
  },
  {
   "cell_type": "code",
   "execution_count": 172,
   "metadata": {},
   "outputs": [
    {
     "name": "stdout",
     "output_type": "stream",
     "text": [
      "404\n",
      "{\"error\":{\"code\":\"ResourceGroupNotFound\",\"message\":\"Resource group 'azure-lab4-apitest933' could not be found.\"}}\n"
     ]
    }
   ],
   "source": [
    "resource_group_name = 'azure-lab4-apitest933' \n",
    "url = 'https://management.azure.com/subscriptions/a8682560-0e6b-4834-accf-21ff95b29125/resourceGroups/' + resource_group_name + '?api-version=2014-04-01'\n",
    "headers = { 'Authorization': 'Bearer ' + access_token, 'Content-Type': 'application/json' }\n",
    "#body = { 'name': resource_group_name, 'location': 'westeurope' }\n",
    "body = { 'name': resource_group_name}\n",
    "response = requests.delete(url, data=json.dumps(body), headers=headers)\n",
    "print (response.status_code)\n",
    "print (response.text)"
   ]
  },
  {
   "cell_type": "code",
   "execution_count": 173,
   "metadata": {},
   "outputs": [
    {
     "name": "stdout",
     "output_type": "stream",
     "text": [
      "200\n",
      "[\n",
      "    {\n",
      "        \"id\": \"/subscriptions/a8682560-0e6b-4834-accf-21ff95b29125/resourceGroups/cloud-shell-storage-westeurope\",\n",
      "        \"name\": \"cloud-shell-storage-westeurope\",\n",
      "        \"location\": \"westeurope\",\n",
      "        \"properties\": {\n",
      "            \"provisioningState\": \"Succeeded\"\n",
      "        }\n",
      "    },\n",
      "    {\n",
      "        \"id\": \"/subscriptions/a8682560-0e6b-4834-accf-21ff95b29125/resourceGroups/delphae-freetrail\",\n",
      "        \"name\": \"delphae-freetrail\",\n",
      "        \"location\": \"westeurope\",\n",
      "        \"properties\": {\n",
      "            \"provisioningState\": \"Succeeded\"\n",
      "        }\n",
      "    },\n",
      "    {\n",
      "        \"id\": \"/subscriptions/a8682560-0e6b-4834-accf-21ff95b29125/resourceGroups/NetworkWatcherRG\",\n",
      "        \"name\": \"NetworkWatcherRG\",\n",
      "        \"location\": \"westeurope\",\n",
      "        \"properties\": {\n",
      "            \"provisioningState\": \"Succeeded\"\n",
      "        }\n",
      "    }\n",
      "]\n"
     ]
    }
   ],
   "source": [
    "# ProvisioningState: Deleting\n",
    "\n",
    "url = \"https://management.azure.com/subscriptions/a8682560-0e6b-4834-accf-21ff95b29125/resourceGroups?api-version=2014-04-01\"\n",
    "#print (url)\n",
    "response = requests.get(url, headers=headers, timeout=5)\n",
    "print (response.status_code)\n",
    "jsdata = response.json()\n",
    "print (json.dumps(jsdata['value'], indent=4))\n",
    "#pd.DataFrame(jsdata['value'])[['name','location']]"
   ]
  },
  {
   "cell_type": "markdown",
   "metadata": {},
   "source": [
    "### Express Route Service Providers (ERSP)"
   ]
  },
  {
   "cell_type": "code",
   "execution_count": 209,
   "metadata": {},
   "outputs": [
    {
     "name": "stdout",
     "output_type": "stream",
     "text": [
      "200\n"
     ]
    }
   ],
   "source": [
    "url = 'https://management.azure.com/subscriptions/a8682560-0e6b-4834-accf-21ff95b29125/providers/Microsoft.Network/expressRouteServiceProviders?api-version=2018-07-01'\n",
    "response = requests.get(url, headers=headers)\n",
    "print (response.status_code)\n",
    "jsdata = response.json()\n",
    "data = jsdata['value']"
   ]
  },
  {
   "cell_type": "code",
   "execution_count": 210,
   "metadata": {},
   "outputs": [
    {
     "name": "stdout",
     "output_type": "stream",
     "text": [
      "{\n",
      "    \"name\": \"Equinix\",\n",
      "    \"id\": \"/subscriptions//resourceGroups//providers/Microsoft.Network/expressRouteServiceProviders/\",\n",
      "    \"type\": \"Microsoft.Network/expressRouteServiceProviders\",\n",
      "    \"properties\": {\n",
      "        \"provisioningState\": \"Succeeded\",\n",
      "        \"peeringLocations\": [\n",
      "            \"Amsterdam\",\n",
      "            \"Atlanta\",\n",
      "            \"Chicago\",\n",
      "            \"Dallas\",\n",
      "            \"Dublin\",\n",
      "            \"Hong Kong\",\n",
      "            \"London\",\n",
      "            \"London2\",\n",
      "            \"Los Angeles\",\n",
      "            \"Melbourne\",\n",
      "            \"Miami\",\n",
      "            \"New York\",\n",
      "            \"Osaka\",\n",
      "            \"Paris\",\n",
      "            \"Sao Paulo\",\n",
      "            \"Seattle\",\n",
      "            \"Silicon Valley\",\n",
      "            \"Singapore\",\n",
      "            \"Sydney\",\n",
      "            \"Tokyo\",\n",
      "            \"Toronto\",\n",
      "            \"Washington DC\"\n",
      "        ],\n",
      "        \"bandwidthsOffered\": [\n",
      "            {\n",
      "                \"offerName\": \"50Mbps\",\n",
      "                \"valueInMbps\": 50\n",
      "            },\n",
      "            {\n",
      "                \"offerName\": \"100Mbps\",\n",
      "                \"valueInMbps\": 100\n",
      "            },\n",
      "            {\n",
      "                \"offerName\": \"200Mbps\",\n",
      "                \"valueInMbps\": 200\n",
      "            },\n",
      "            {\n",
      "                \"offerName\": \"500Mbps\",\n",
      "                \"valueInMbps\": 500\n",
      "            },\n",
      "            {\n",
      "                \"offerName\": \"1Gbps\",\n",
      "                \"valueInMbps\": 1000\n",
      "            },\n",
      "            {\n",
      "                \"offerName\": \"2Gbps\",\n",
      "                \"valueInMbps\": 2000\n",
      "            },\n",
      "            {\n",
      "                \"offerName\": \"5Gbps\",\n",
      "                \"valueInMbps\": 5000\n",
      "            },\n",
      "            {\n",
      "                \"offerName\": \"10Gbps\",\n",
      "                \"valueInMbps\": 10000\n",
      "            }\n",
      "        ]\n",
      "    }\n",
      "}\n"
     ]
    }
   ],
   "source": [
    "for ersp in data:\n",
    "    if ersp['name']=='Equinix':\n",
    "        print (json.dumps(ersp, indent=4))"
   ]
  },
  {
   "cell_type": "code",
   "execution_count": 212,
   "metadata": {},
   "outputs": [
    {
     "name": "stdout",
     "output_type": "stream",
     "text": [
      "Aryaka Networks\n",
      "AT&T Netbond\n",
      "British Telecom\n",
      "Colt Ethernet\n",
      "Colt IPVPN\n",
      "Equinix\n",
      "euNetworks\n",
      "GEANT\n",
      "InterCloud\n",
      "InterCloud for Azure\n",
      "Interxion\n",
      "IX Reach\n",
      "KPN\n",
      "Level 3 Communications - Exchange\n",
      "Level 3 Communications - IPVPN\n",
      "Megaport\n",
      "NTT Communications\n",
      "Orange\n",
      "Tata Communications\n",
      "Telefonica\n",
      "Telenor\n",
      "Telia Carrier\n",
      "Verizon\n",
      "Zayo\n"
     ]
    }
   ],
   "source": [
    "for ersp in data:\n",
    "    if 'Amsterdam' in ersp['properties']['peeringLocations']:\n",
    "        #print (json.dumps(ersp, indent=4))\n",
    "        print (ersp['name'])"
   ]
  },
  {
   "cell_type": "code",
   "execution_count": null,
   "metadata": {},
   "outputs": [],
   "source": []
  }
 ],
 "metadata": {
  "kernelspec": {
   "display_name": "Python 3",
   "language": "python",
   "name": "python3"
  },
  "language_info": {
   "codemirror_mode": {
    "name": "ipython",
    "version": 3
   },
   "file_extension": ".py",
   "mimetype": "text/x-python",
   "name": "python",
   "nbconvert_exporter": "python",
   "pygments_lexer": "ipython3",
   "version": "3.7.3"
  }
 },
 "nbformat": 4,
 "nbformat_minor": 2
}
