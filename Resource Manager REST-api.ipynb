{
  "cells": [
    {
      "metadata": {
        "trusted": true
      },
      "cell_type": "code",
      "source": "#    ____       _       _\n#   |  _ \\  ___| |_ __ | |__   __ _  ___\n#   | | | |/ _ \\ | '_ \\| '_ \\ / _` |/ _ \\\n#   | |_| |  __/ | |_) | | | | (_| |  __/\n#   |____/ \\___|_| .__/|_| |_|\\__,_|\\___|\n#                |_|",
      "execution_count": 1,
      "outputs": []
    },
    {
      "metadata": {},
      "cell_type": "markdown",
      "source": "version 1.6\n<br>\ndate 2019-08-15\n<br>\nauthor: Carlo van Wordragen"
    },
    {
      "metadata": {
        "trusted": true
      },
      "cell_type": "code",
      "source": "import requests\nimport json\nfrom datetime import datetime as dt\nimport pandas as pd",
      "execution_count": 31,
      "outputs": []
    },
    {
      "metadata": {},
      "cell_type": "markdown",
      "source": "## Azure AD Authentication"
    },
    {
      "metadata": {},
      "cell_type": "markdown",
      "source": "https://docs.microsoft.com/nl-nl/azure/active-directory/develop/howto-create-service-principal-portal"
    },
    {
      "metadata": {},
      "cell_type": "markdown",
      "source": "1. create Azure AD application in 'App registrations' <br>\n    for example: 'azure-lab4-arm-api' <br>\n    redirect: http://localhost <br>\n    create 'Client secret' and save to variable azure_secret <br>\n<br>    \n2. assign application to a RBAC role 'Owner'<br>\n   via Cost Management + Billing, select Subscription 'Free Trial'<br>\n   Access Control (IAM)<br>\n   Role assignments<br>\n   Search by application name 'azure-lab4-arm-api'<br>\n   Add role assigment to 'Owner'\n   "
    },
    {
      "metadata": {},
      "cell_type": "markdown",
      "source": "### Azure ID's"
    },
    {
      "metadata": {
        "trusted": true
      },
      "cell_type": "code",
      "source": "# azure-lab4-arm-api\n\n# subscription ID can be found on a resource, overview page\nazure_subscription_id = 'a8682560-0e6b-4834-accf-21ff95b29125'\n\n# app information can be found:\n# Azure Active Directory\n# app Registrations\n# overview\nazure_tenant = '3089f1b6-d716-42a9-9dd5-a580cf7b4f12'\nazure_client_id = '0407876f-fcd1-4260-bfa4-4180a54beced' # application ID\n\n# client secret only visible during creation\n# copy & pase here\nazure_secret = 'iV-6G@Ee=1Cw7T/C0G1RPkPP/S[W/D+r'",
      "execution_count": 32,
      "outputs": []
    },
    {
      "metadata": {},
      "cell_type": "markdown",
      "source": "### Request Access Token"
    },
    {
      "metadata": {
        "trusted": true
      },
      "cell_type": "code",
      "source": "# authorize with azure\n\n#\n# tutorial\n# http://exponentialcoding.com/accessing-azure-rest-api-from-python/\n#\n# access_token expires in 1 hour\n#\n\nurl = \"https://login.windows.net/%s/oauth2/token\" % azure_tenant\n\n#resource = 'https://management.core.windows.net' # Azure Classic Deployment\nresource = 'https://management.azure.com' # Azure Resource Manager\nparameters = {\n    'resource' : resource,\n    'client_id' : azure_client_id,\n    'grant_type' : 'client_credentials',\n    'client_secret': azure_secret\n}\n\nheaders = {'Content-Type': 'application/x-www-form-urlencoded'}\nresponse = requests.post(url, data=parameters, headers=headers)\njsdata = response.json()\n\nprint (json.dumps(jsdata, indent=4))\naccess_token = jsdata['access_token']",
      "execution_count": 33,
      "outputs": [
        {
          "output_type": "stream",
          "text": "{\n    \"token_type\": \"Bearer\",\n    \"not_before\": \"1565858400\",\n    \"access_token\": \"eyJ0eXAiOiJKV1QiLCJhbGciOiJSUzI1NiIsIng1dCI6ImllX3FXQ1hoWHh0MXpJRXN1NGM3YWNRVkduNCIsImtpZCI6ImllX3FXQ1hoWHh0MXpJRXN1NGM3YWNRVkduNCJ9.eyJhdWQiOiJodHRwczovL21hbmFnZW1lbnQuYXp1cmUuY29tIiwiaXNzIjoiaHR0cHM6Ly9zdHMud2luZG93cy5uZXQvMzA4OWYxYjYtZDcxNi00MmE5LTlkZDUtYTU4MGNmN2I0ZjEyLyIsImlhdCI6MTU2NTg1ODQwMCwibmJmIjoxNTY1ODU4NDAwLCJleHAiOjE1NjU4NjIzMDAsImFpbyI6IjQyRmdZSmk1NzlmcFUxZFVnejZITDJoYk5QMVhQQUE9IiwiYXBwaWQiOiIwNDA3ODc2Zi1mY2QxLTQyNjAtYmZhNC00MTgwYTU0YmVjZWQiLCJhcHBpZGFjciI6IjEiLCJpZHAiOiJodHRwczovL3N0cy53aW5kb3dzLm5ldC8zMDg5ZjFiNi1kNzE2LTQyYTktOWRkNS1hNTgwY2Y3YjRmMTIvIiwib2lkIjoiNjA0NTZjNDMtMjg2OS00Njk1LTlhMzktNzAzZTFmMzU3OWIxIiwic3ViIjoiNjA0NTZjNDMtMjg2OS00Njk1LTlhMzktNzAzZTFmMzU3OWIxIiwidGlkIjoiMzA4OWYxYjYtZDcxNi00MmE5LTlkZDUtYTU4MGNmN2I0ZjEyIiwidXRpIjoiSWp3N09JLWNZMEtEc00xSU44dnNBQSIsInZlciI6IjEuMCJ9.IcvJB6EWCyx6v1F5dnKlFzY4qowlTguT0Dt_Jaez81JIDRxL0pZ5yuXtaiAwqB4EXM1isTZZ6980dhJwgopQr2Hnj4mStjr7sE1Dyf6azPkucOyChK1dqH6X7jjs-N3ozbDUjwhuXHz9_uYYbas20jNGgNPM6uXsg23EH6L2RqnUv8t2WF3XJlhVSY21KXwKTodLds5fd07osGvAtVIy9pI_hXyRlc482i0LQ8aEGCDC7Sk2oGJb6Z6MBor82kbKzgOy9yXpB0jSkuEW7NClgb9NWteCn5ixBdcULt4jKr6JZvS_xRcJX7JZjwkg9yTZqTZkuGovu0_C-S0prwaiPg\",\n    \"expires_on\": \"1565862300\",\n    \"expires_in\": \"3600\",\n    \"resource\": \"https://management.azure.com\",\n    \"ext_expires_in\": \"3600\"\n}\n",
          "name": "stdout"
        }
      ]
    },
    {
      "metadata": {
        "trusted": true
      },
      "cell_type": "code",
      "source": "# access token valid for 1 hour\n# access token experation time\nUTC = 2\nprint ('GMT %s' % (dt.fromtimestamp(float(jsdata['expires_on']))))\nprint ('CET %s' % (dt.fromtimestamp(float(jsdata['expires_on'])+UTC*3600)))",
      "execution_count": 35,
      "outputs": [
        {
          "output_type": "stream",
          "text": "GMT 2019-08-15 09:45:00\nCET 2019-08-15 11:45:00\n",
          "name": "stdout"
        }
      ]
    },
    {
      "metadata": {},
      "cell_type": "markdown",
      "source": "## Azure Resource Explorer\nhttps://resources.azure.com\n\ncopy & paste the URL to variable 'url'<br>\nyour Azure subscription_id will change after the Free Trial period<br>\ncopy & past the new URL and save to variable 'url' below"
    },
    {
      "metadata": {
        "trusted": true
      },
      "cell_type": "code",
      "source": "headers = {'Authorization': 'Bearer ' + access_token, \n           'Content-Type': 'application/json'}",
      "execution_count": 36,
      "outputs": []
    },
    {
      "metadata": {
        "trusted": true
      },
      "cell_type": "code",
      "source": "# subscriptions\n\nurl = 'https://management.azure.com/subscriptions?api-version=2014-04-01'\nresponse = requests.get(url, headers=headers)\nprint (response.status_code)\njsdata = response.json()\nprint (json.dumps(jsdata['value'], indent=4))\n\njsdata['value'][0]['subscriptionId'] == azure_subscription_id",
      "execution_count": 41,
      "outputs": [
        {
          "output_type": "stream",
          "text": "200\n[\n    {\n        \"subscriptionPolicies\": {\n            \"locationPlacementId\": \"Public_2014-09-01\",\n            \"quotaId\": \"FreeTrial_2014-09-01\",\n            \"spendingLimit\": \"On\"\n        },\n        \"subscriptionId\": \"a8682560-0e6b-4834-accf-21ff95b29125\",\n        \"state\": \"Enabled\",\n        \"displayName\": \"Free Trial\",\n        \"id\": \"/subscriptions/a8682560-0e6b-4834-accf-21ff95b29125\"\n    }\n]\n",
          "name": "stdout"
        },
        {
          "output_type": "execute_result",
          "execution_count": 41,
          "data": {
            "text/plain": "True"
          },
          "metadata": {}
        }
      ]
    },
    {
      "metadata": {},
      "cell_type": "raw",
      "source": "for key, val in response.headers.items():\n    print ('{:40}{}'.format(key, val))"
    },
    {
      "metadata": {
        "trusted": true
      },
      "cell_type": "code",
      "source": "# resource groups\n\nurl = \"https://management.azure.com/subscriptions/a8682560-0e6b-4834-accf-21ff95b29125/resourceGroups?api-version=2014-04-01\"\n#print (url)\nresponse = requests.get(url, headers=headers, timeout=5)\nprint (response.status_code)\njsdata = response.json()\nprint (json.dumps(jsdata['value'], indent=4))",
      "execution_count": 43,
      "outputs": [
        {
          "output_type": "stream",
          "text": "200\n[\n    {\n        \"properties\": {\n            \"provisioningState\": \"Succeeded\"\n        },\n        \"location\": \"westeurope\",\n        \"name\": \"cloud-shell-storage-westeurope\",\n        \"id\": \"/subscriptions/a8682560-0e6b-4834-accf-21ff95b29125/resourceGroups/cloud-shell-storage-westeurope\"\n    },\n    {\n        \"properties\": {\n            \"provisioningState\": \"Succeeded\"\n        },\n        \"location\": \"westeurope\",\n        \"name\": \"delphae-freetrail\",\n        \"id\": \"/subscriptions/a8682560-0e6b-4834-accf-21ff95b29125/resourceGroups/delphae-freetrail\"\n    },\n    {\n        \"properties\": {\n            \"provisioningState\": \"Succeeded\"\n        },\n        \"location\": \"westeurope\",\n        \"name\": \"NetworkWatcherRG\",\n        \"id\": \"/subscriptions/a8682560-0e6b-4834-accf-21ff95b29125/resourceGroups/NetworkWatcherRG\"\n    }\n]\n",
          "name": "stdout"
        }
      ]
    },
    {
      "metadata": {
        "trusted": true
      },
      "cell_type": "code",
      "source": "# delphae-freetrail\n\nurl = \"https://management.azure.com/subscriptions/a8682560-0e6b-4834-accf-21ff95b29125/resourceGroups/delphae-freetrail?api-version=2014-04-01\"\nresponse = requests.get(url, headers=headers, timeout=5)\nprint (response.status_code)\njsdata = response.json()\nprint (json.dumps(jsdata, indent=4))",
      "execution_count": 44,
      "outputs": [
        {
          "output_type": "stream",
          "text": "200\n{\n    \"properties\": {\n        \"provisioningState\": \"Succeeded\"\n    },\n    \"location\": \"westeurope\",\n    \"name\": \"delphae-freetrail\",\n    \"id\": \"/subscriptions/a8682560-0e6b-4834-accf-21ff95b29125/resourceGroups/delphae-freetrail\"\n}\n",
          "name": "stdout"
        }
      ]
    },
    {
      "metadata": {
        "trusted": true
      },
      "cell_type": "code",
      "source": "# virtual machines\n\nurl = 'https://management.azure.com/subscriptions/a8682560-0e6b-4834-accf-21ff95b29125/resourceGroups/delphae-freetrail/providers/Microsoft.Compute/virtualMachines?api-version=2018-10-01'\nresponse = requests.get(url, headers=headers, timeout=5)\nprint (response.status_code)\njsdata = response.json()\nprint (json.dumps(jsdata['value'][0], indent=4))\n\nfor vm in jsdata['value']:\n    print ('{:20s}{:15s}{:15s}{:10s}'.format(vm['name'], \n                           vm['location'], \n                           vm['properties']['storageProfile']['osDisk']['osType'], \n                           vm['properties']['storageProfile']['imageReference']['sku']))",
      "execution_count": 45,
      "outputs": [
        {
          "output_type": "stream",
          "text": "200\n{\n    \"type\": \"Microsoft.Compute/virtualMachines\",\n    \"location\": \"northeurope\",\n    \"properties\": {\n        \"diagnosticsProfile\": {\n            \"bootDiagnostics\": {\n                \"storageUri\": \"https://delphaefreetraildiag131.blob.core.windows.net/\",\n                \"enabled\": true\n            }\n        },\n        \"osProfile\": {\n            \"linuxConfiguration\": {\n                \"provisionVMAgent\": true,\n                \"disablePasswordAuthentication\": false\n            },\n            \"adminUsername\": \"cvwordragen\",\n            \"requireGuestProvisionSignal\": true,\n            \"computerName\": \"azure-ie-ubuntu-03\",\n            \"allowExtensionOperations\": true,\n            \"secrets\": []\n        },\n        \"provisioningState\": \"Succeeded\",\n        \"networkProfile\": {\n            \"networkInterfaces\": [\n                {\n                    \"id\": \"/subscriptions/a8682560-0e6b-4834-accf-21ff95b29125/resourceGroups/delphae-freetrail/providers/Microsoft.Network/networkInterfaces/azure-ie-ubuntu-03866\"\n                }\n            ]\n        },\n        \"vmId\": \"9d4b2a6c-1548-4001-9195-0aa44bb70b4f\",\n        \"storageProfile\": {\n            \"osDisk\": {\n                \"caching\": \"ReadWrite\",\n                \"managedDisk\": {\n                    \"id\": \"/subscriptions/a8682560-0e6b-4834-accf-21ff95b29125/resourceGroups/DELPHAE-FREETRAIL/providers/Microsoft.Compute/disks/azure-ie-ubuntu-03_OsDisk_1_cecbf9731d22446296938226597069a9\"\n                },\n                \"osType\": \"Linux\",\n                \"name\": \"azure-ie-ubuntu-03_OsDisk_1_cecbf9731d22446296938226597069a9\",\n                \"createOption\": \"FromImage\"\n            },\n            \"dataDisks\": [],\n            \"imageReference\": {\n                \"version\": \"latest\",\n                \"sku\": \"18.04-LTS\",\n                \"publisher\": \"Canonical\",\n                \"offer\": \"UbuntuServer\"\n            }\n        },\n        \"hardwareProfile\": {\n            \"vmSize\": \"Standard_B1s\"\n        }\n    },\n    \"name\": \"azure-ie-ubuntu-03\",\n    \"id\": \"/subscriptions/a8682560-0e6b-4834-accf-21ff95b29125/resourceGroups/delphae-freetrail/providers/Microsoft.Compute/virtualMachines/azure-ie-ubuntu-03\"\n}\nazure-ie-ubuntu-03  northeurope    Linux          18.04-LTS \nazure-nl-ubuntu-01  westeurope     Linux          18.04-LTS \nazure-uk-ubuntu-04  ukwest         Linux          18.04-LTS \nazure-fr-ubuntu-07  francecentral  Linux          18.04-LTS \n",
          "name": "stdout"
        }
      ]
    },
    {
      "metadata": {
        "trusted": true
      },
      "cell_type": "code",
      "source": "# connections\n\nurl = 'https://management.azure.com/subscriptions/a8682560-0e6b-4834-accf-21ff95b29125/resourceGroups/delphae-freetrail/providers/Microsoft.Network/connections?api-version=2018-07-01'\nresponse = requests.get(url, headers=headers)\nprint (response.status_code)\njsdata = response.json()\n#print (json.dumps(jsdata['value'][0], indent=4))\nprint (json.dumps(jsdata['value'][0]['properties'], indent=4))\n\nurl = 'https://management.azure.com/subscriptions/a8682560-0e6b-4834-accf-21ff95b29125/resourceGroups/delphae-freetrail/providers/Microsoft.Network/connections/lab2-meraki-vpn?api-version=2018-07-01'\nresponse = requests.get(url, headers=headers)\nprint (response.status_code)\njsdata = response.json()",
      "execution_count": 47,
      "outputs": [
        {
          "output_type": "stream",
          "text": "200\n{\n    \"connectionType\": \"IPsec\",\n    \"localNetworkGateway2\": {\n        \"id\": \"/subscriptions/a8682560-0e6b-4834-accf-21ff95b29125/resourceGroups/delphae-freetrail/providers/Microsoft.Network/localNetworkGateways/lab2-meraki-sdwan\"\n    },\n    \"resourceGuid\": \"28241ef5-734f-42d3-bf4b-8b31c624672d\",\n    \"routingWeight\": 0,\n    \"ingressBytesTransferred\": 0,\n    \"expressRouteGatewayBypass\": false,\n    \"virtualNetworkGateway1\": {\n        \"id\": \"/subscriptions/a8682560-0e6b-4834-accf-21ff95b29125/resourceGroups/delphae-freetrail/providers/Microsoft.Network/virtualNetworkGateways/lab2-vnet-gw\"\n    },\n    \"egressBytesTransferred\": 0,\n    \"connectionProtocol\": \"IKEv1\",\n    \"ipsecPolicies\": [],\n    \"usePolicyBasedTrafficSelectors\": false,\n    \"enableBgp\": false,\n    \"provisioningState\": \"Succeeded\"\n}\n200\n",
          "name": "stdout"
        }
      ]
    },
    {
      "metadata": {
        "trusted": true
      },
      "cell_type": "code",
      "source": "print (json.dumps(jsdata, indent=4))",
      "execution_count": 48,
      "outputs": [
        {
          "output_type": "stream",
          "text": "{\n    \"type\": \"Microsoft.Network/connections\",\n    \"location\": \"westeurope\",\n    \"name\": \"lab2-meraki-vpn\",\n    \"id\": \"/subscriptions/a8682560-0e6b-4834-accf-21ff95b29125/resourceGroups/delphae-freetrail/providers/Microsoft.Network/connections/lab2-meraki-vpn\",\n    \"properties\": {\n        \"sharedKey\": \"Delphae2019\",\n        \"connectionStatus\": \"Connected\",\n        \"connectionType\": \"IPsec\",\n        \"ingressBytesTransferred\": 697416,\n        \"resourceGuid\": \"28241ef5-734f-42d3-bf4b-8b31c624672d\",\n        \"routingWeight\": 0,\n        \"localNetworkGateway2\": {\n            \"id\": \"/subscriptions/a8682560-0e6b-4834-accf-21ff95b29125/resourceGroups/delphae-freetrail/providers/Microsoft.Network/localNetworkGateways/lab2-meraki-sdwan\"\n        },\n        \"expressRouteGatewayBypass\": false,\n        \"virtualNetworkGateway1\": {\n            \"id\": \"/subscriptions/a8682560-0e6b-4834-accf-21ff95b29125/resourceGroups/delphae-freetrail/providers/Microsoft.Network/virtualNetworkGateways/lab2-vnet-gw\"\n        },\n        \"egressBytesTransferred\": 5832728,\n        \"connectionProtocol\": \"IKEv1\",\n        \"ipsecPolicies\": [],\n        \"usePolicyBasedTrafficSelectors\": false,\n        \"enableBgp\": false,\n        \"provisioningState\": \"Succeeded\"\n    },\n    \"etag\": \"W/\\\"7c71f338-b74a-48fa-b50c-ab9afafa579e\\\"\"\n}\n",
          "name": "stdout"
        }
      ]
    },
    {
      "metadata": {
        "trusted": true
      },
      "cell_type": "code",
      "source": "properties = jsdata['properties']\nprint (properties['connectionStatus'])\nprint (properties['ingressBytesTransferred'] / 1024.0 / 1024.0)\nprint (properties['egressBytesTransferred'] / 1024.0 / 1024.0)",
      "execution_count": 49,
      "outputs": [
        {
          "output_type": "stream",
          "text": "Connected\n0.6651077270507812\n5.562522888183594\n",
          "name": "stdout"
        }
      ]
    },
    {
      "metadata": {
        "trusted": true
      },
      "cell_type": "code",
      "source": "# localNetworkGateways\n\nurl = 'https://management.azure.com/subscriptions/a8682560-0e6b-4834-accf-21ff95b29125/resourceGroups/delphae-freetrail/providers/Microsoft.Network/localNetworkGateways?api-version=2018-07-01'\nresponse = requests.get(url, headers=headers)\nprint (response.status_code)\njsdata = response.json()\nprint (json.dumps(jsdata['value'][0], indent=4))\n",
      "execution_count": 52,
      "outputs": [
        {
          "output_type": "stream",
          "text": "200\n{\n    \"type\": \"Microsoft.Network/localNetworkGateways\",\n    \"location\": \"westeurope\",\n    \"name\": \"lab2-meraki-sdwan\",\n    \"id\": \"/subscriptions/a8682560-0e6b-4834-accf-21ff95b29125/resourceGroups/delphae-freetrail/providers/Microsoft.Network/localNetworkGateways/lab2-meraki-sdwan\",\n    \"properties\": {\n        \"provisioningState\": \"Succeeded\",\n        \"resourceGuid\": \"3e7c0b0a-6e51-417a-8b47-bbe8b8dd8d27\",\n        \"localNetworkAddressSpace\": {\n            \"addressPrefixes\": [\n                \"192.168.64.0/24\"\n            ]\n        },\n        \"gatewayIpAddress\": \"84.31.151.136\"\n    },\n    \"etag\": \"W/\\\"191f5411-3325-4403-bd60-670914c7bd61\\\"\"\n}\n",
          "name": "stdout"
        }
      ]
    },
    {
      "metadata": {
        "trusted": true
      },
      "cell_type": "code",
      "source": "localgw = jsdata['value'][0]\nprint ('{:20}{}'.format(localgw['name'], localgw['properties']['localNetworkAddressSpace']))\nprint ('{:20}{}'.format(localgw['name'], localgw['properties']['gatewayIpAddress']))",
      "execution_count": 53,
      "outputs": [
        {
          "output_type": "stream",
          "text": "lab2-meraki-sdwan   {'addressPrefixes': ['192.168.64.0/24']}\nlab2-meraki-sdwan   84.31.151.136\n",
          "name": "stdout"
        }
      ]
    },
    {
      "metadata": {
        "trusted": true
      },
      "cell_type": "code",
      "source": "# resources\n\nurl = 'https://management.azure.com/subscriptions/a8682560-0e6b-4834-accf-21ff95b29125/resources?api-version=2017-05-10'\nresponse = requests.get(url, headers=headers)\nprint (response.status_code)\njsdata = response.json()\ndata = jsdata['value']\n\ndf = pd.DataFrame(data)",
      "execution_count": 54,
      "outputs": [
        {
          "output_type": "stream",
          "text": "200\n",
          "name": "stdout"
        }
      ]
    },
    {
      "metadata": {
        "trusted": true
      },
      "cell_type": "code",
      "source": "df[['name','type','location']][df.type=='Microsoft.Compute/virtualMachines']",
      "execution_count": 55,
      "outputs": [
        {
          "output_type": "execute_result",
          "execution_count": 55,
          "data": {
            "text/html": "<div>\n<table border=\"1\" class=\"dataframe\">\n  <thead>\n    <tr style=\"text-align: right;\">\n      <th></th>\n      <th>name</th>\n      <th>type</th>\n      <th>location</th>\n    </tr>\n  </thead>\n  <tbody>\n    <tr>\n      <th>6</th>\n      <td>azure-fr-ubuntu-07</td>\n      <td>Microsoft.Compute/virtualMachines</td>\n      <td>francecentral</td>\n    </tr>\n    <tr>\n      <th>7</th>\n      <td>azure-ie-ubuntu-03</td>\n      <td>Microsoft.Compute/virtualMachines</td>\n      <td>northeurope</td>\n    </tr>\n    <tr>\n      <th>8</th>\n      <td>azure-nl-ubuntu-01</td>\n      <td>Microsoft.Compute/virtualMachines</td>\n      <td>westeurope</td>\n    </tr>\n    <tr>\n      <th>9</th>\n      <td>azure-uk-ubuntu-04</td>\n      <td>Microsoft.Compute/virtualMachines</td>\n      <td>ukwest</td>\n    </tr>\n  </tbody>\n</table>\n</div>",
            "text/plain": "                 name                               type       location\n6  azure-fr-ubuntu-07  Microsoft.Compute/virtualMachines  francecentral\n7  azure-ie-ubuntu-03  Microsoft.Compute/virtualMachines    northeurope\n8  azure-nl-ubuntu-01  Microsoft.Compute/virtualMachines     westeurope\n9  azure-uk-ubuntu-04  Microsoft.Compute/virtualMachines         ukwest"
          },
          "metadata": {}
        }
      ]
    },
    {
      "metadata": {
        "trusted": true
      },
      "cell_type": "code",
      "source": "df[['name','type','location']][df.type=='Microsoft.Network/localNetworkGateways']",
      "execution_count": 56,
      "outputs": [
        {
          "output_type": "execute_result",
          "execution_count": 56,
          "data": {
            "text/html": "<div>\n<table border=\"1\" class=\"dataframe\">\n  <thead>\n    <tr style=\"text-align: right;\">\n      <th></th>\n      <th>name</th>\n      <th>type</th>\n      <th>location</th>\n    </tr>\n  </thead>\n  <tbody>\n    <tr>\n      <th>15</th>\n      <td>lab2-meraki-sdwan</td>\n      <td>Microsoft.Network/localNetworkGateways</td>\n      <td>westeurope</td>\n    </tr>\n  </tbody>\n</table>\n</div>",
            "text/plain": "                 name                                    type    location\n15  lab2-meraki-sdwan  Microsoft.Network/localNetworkGateways  westeurope"
          },
          "metadata": {}
        }
      ]
    },
    {
      "metadata": {
        "trusted": true
      },
      "cell_type": "code",
      "source": "df[['name','type','location']][df.type=='Microsoft.Network/virtualNetworkGateways']",
      "execution_count": 57,
      "outputs": [
        {
          "output_type": "execute_result",
          "execution_count": 57,
          "data": {
            "text/html": "<div>\n<table border=\"1\" class=\"dataframe\">\n  <thead>\n    <tr style=\"text-align: right;\">\n      <th></th>\n      <th>name</th>\n      <th>type</th>\n      <th>location</th>\n    </tr>\n  </thead>\n  <tbody>\n    <tr>\n      <th>30</th>\n      <td>lab2-vnet-gw</td>\n      <td>Microsoft.Network/virtualNetworkGateways</td>\n      <td>westeurope</td>\n    </tr>\n  </tbody>\n</table>\n</div>",
            "text/plain": "            name                                      type    location\n30  lab2-vnet-gw  Microsoft.Network/virtualNetworkGateways  westeurope"
          },
          "metadata": {}
        }
      ]
    },
    {
      "metadata": {
        "trusted": true
      },
      "cell_type": "code",
      "source": "df[['name','type','location']][df.type=='Microsoft.Network/connections']",
      "execution_count": 58,
      "outputs": [
        {
          "output_type": "execute_result",
          "execution_count": 58,
          "data": {
            "text/html": "<div>\n<table border=\"1\" class=\"dataframe\">\n  <thead>\n    <tr style=\"text-align: right;\">\n      <th></th>\n      <th>name</th>\n      <th>type</th>\n      <th>location</th>\n    </tr>\n  </thead>\n  <tbody>\n    <tr>\n      <th>14</th>\n      <td>lab2-meraki-vpn</td>\n      <td>Microsoft.Network/connections</td>\n      <td>westeurope</td>\n    </tr>\n  </tbody>\n</table>\n</div>",
            "text/plain": "               name                           type    location\n14  lab2-meraki-vpn  Microsoft.Network/connections  westeurope"
          },
          "metadata": {}
        }
      ]
    },
    {
      "metadata": {
        "trusted": true
      },
      "cell_type": "code",
      "source": "# public IP addresses\n\nurl = 'https://management.azure.com/subscriptions/a8682560-0e6b-4834-accf-21ff95b29125/resourceGroups/delphae-freetrail/providers/Microsoft.Network/publicIPAddresses?api-version=2018-07-01'\nresponse = requests.get(url, headers=headers)\nprint (response.status_code)\njsdata = response.json()\ndata = jsdata['value']\n\nfor item in data:\n    try:\n        properties = item['properties']\n        print ('{:25s}{:15s}{}'.format(item['name'], item['location'], properties['ipAddress']))\n    except:\n        pass",
      "execution_count": 59,
      "outputs": [
        {
          "output_type": "stream",
          "text": "200\nlab2-vnet-ip             westeurope     52.178.29.168\n",
          "name": "stdout"
        }
      ]
    },
    {
      "metadata": {
        "trusted": true
      },
      "cell_type": "code",
      "source": "# virtual networks\n\nurl = 'https://management.azure.com/subscriptions/a8682560-0e6b-4834-accf-21ff95b29125/providers/Microsoft.Network/virtualNetworks?api-version=2018-07-01'\nresponse = requests.get(url, headers=headers)\nprint (response.status_code)\njsdata = response.json()\ndata = jsdata['value']\n#print (json.dumps(data[0], indent=4))\n\n\nfor virtnet in data:\n    properties = virtnet['properties']\n    print ('virtualnet: {:20}{}'.format(virtnet['name'], properties['addressSpace']['addressPrefixes'][0]))\n    subnets = properties['subnets']\n    for subnet in subnets:\n        print ('subnet: {:24}{}'.format(subnet['name'], subnet['properties']['addressPrefix']))\n    print ()",
      "execution_count": 60,
      "outputs": [
        {
          "output_type": "stream",
          "text": "200\nvirtualnet: azure-ie-vnet-01    10.1.0.0/16\nsubnet: azure-ie-subnet-01      10.1.0.0/24\nsubnet: GatewaySubnet           10.1.1.0/24\n\nvirtualnet: labsource-vnet      10.3.1.0/24\nsubnet: labsubnet               10.3.1.0/25\nsubnet: GatewaySubnet           10.3.1.128/28\n\nvirtualnet: azure-uk-vnet-04    10.8.0.0/16\nsubnet: azure-uk-subnet-06      10.8.0.0/24\nsubnet: GatewaySubnet           10.8.1.0/24\n\nvirtualnet: azure-fr-vnet-08    10.5.0.0/16\nsubnet: azure-fr-subnet-07      10.5.0.0/24\n\n",
          "name": "stdout"
        }
      ]
    },
    {
      "metadata": {},
      "cell_type": "markdown",
      "source": "### Create a Resoure Group"
    },
    {
      "metadata": {
        "trusted": true
      },
      "cell_type": "code",
      "source": "import numpy as np",
      "execution_count": 61,
      "outputs": []
    },
    {
      "metadata": {
        "trusted": true
      },
      "cell_type": "code",
      "source": "resource_group_name = 'azure-lab4-apitest-%03d' % np.random.randint(100)\n\nurl = \"https://management.azure.com/subscriptions/\" + azure_subscription_id + \"/resourcegroups/\" + resource_group_name + \"?api-version=2017-05-10\"\nheaders = { 'Authorization': 'Bearer ' + access_token, 'Content-Type': 'application/json' }\nbody = { 'name': resource_group_name, 'location': 'westeurope' }\nresponse = requests.put(url, data=json.dumps(body), headers=headers)\nprint (response.status_code)\n\n\nprint (json.dumps(response.json(), indent=4))",
      "execution_count": 62,
      "outputs": [
        {
          "output_type": "stream",
          "text": "201\n{\n    \"properties\": {\n        \"provisioningState\": \"Succeeded\"\n    },\n    \"location\": \"westeurope\",\n    \"name\": \"azure-lab4-apitest-043\",\n    \"id\": \"/subscriptions/a8682560-0e6b-4834-accf-21ff95b29125/resourceGroups/azure-lab4-apitest-043\"\n}\n",
          "name": "stdout"
        }
      ]
    },
    {
      "metadata": {
        "trusted": true
      },
      "cell_type": "code",
      "source": "# resource groups\n\nurl = \"https://management.azure.com/subscriptions/a8682560-0e6b-4834-accf-21ff95b29125/resourceGroups?api-version=2014-04-01\"\n#print (url)\nresponse = requests.get(url, headers=headers, timeout=5)\nprint (response.status_code)\nif response.status_code!=200:\n    print (response.text)\njsdata = response.json()\n#print (json.dumps(jsdata['value'], indent=4))\npd.DataFrame(jsdata['value'])[['name','location']]",
      "execution_count": 63,
      "outputs": [
        {
          "output_type": "stream",
          "text": "200\n",
          "name": "stdout"
        },
        {
          "output_type": "execute_result",
          "execution_count": 63,
          "data": {
            "text/html": "<div>\n<table border=\"1\" class=\"dataframe\">\n  <thead>\n    <tr style=\"text-align: right;\">\n      <th></th>\n      <th>name</th>\n      <th>location</th>\n    </tr>\n  </thead>\n  <tbody>\n    <tr>\n      <th>0</th>\n      <td>azure-lab4-apitest-043</td>\n      <td>westeurope</td>\n    </tr>\n    <tr>\n      <th>1</th>\n      <td>cloud-shell-storage-westeurope</td>\n      <td>westeurope</td>\n    </tr>\n    <tr>\n      <th>2</th>\n      <td>delphae-freetrail</td>\n      <td>westeurope</td>\n    </tr>\n    <tr>\n      <th>3</th>\n      <td>NetworkWatcherRG</td>\n      <td>westeurope</td>\n    </tr>\n  </tbody>\n</table>\n</div>",
            "text/plain": "                             name    location\n0          azure-lab4-apitest-043  westeurope\n1  cloud-shell-storage-westeurope  westeurope\n2               delphae-freetrail  westeurope\n3                NetworkWatcherRG  westeurope"
          },
          "metadata": {}
        }
      ]
    },
    {
      "metadata": {},
      "cell_type": "markdown",
      "source": "### Delete a Resoure Group"
    },
    {
      "metadata": {
        "trusted": true
      },
      "cell_type": "code",
      "source": "#resource_group_name = 'azure-lab4-apitest-044' \nurl = 'https://management.azure.com/subscriptions/a8682560-0e6b-4834-accf-21ff95b29125/resourceGroups/' + resource_group_name + '?api-version=2014-04-01'\nheaders = { 'Authorization': 'Bearer ' + access_token, 'Content-Type': 'application/json' }\n#body = { 'name': resource_group_name, 'location': 'westeurope' }\nbody = { 'name': resource_group_name}\nresponse = requests.delete(url, data=json.dumps(body), headers=headers)\nprint (response.status_code)\nprint (response.text)",
      "execution_count": 64,
      "outputs": [
        {
          "output_type": "stream",
          "text": "202\n\n",
          "name": "stdout"
        }
      ]
    },
    {
      "metadata": {
        "trusted": true
      },
      "cell_type": "code",
      "source": "# ProvisioningState: Deleting\n\nurl = \"https://management.azure.com/subscriptions/a8682560-0e6b-4834-accf-21ff95b29125/resourceGroups?api-version=2014-04-01\"\n#print (url)\nresponse = requests.get(url, headers=headers, timeout=5)\nprint (response.status_code)\njsdata = response.json()\nprint (json.dumps(jsdata['value'], indent=4))\n#pd.DataFrame(jsdata['value'])[['name','location']]",
      "execution_count": 65,
      "outputs": [
        {
          "output_type": "stream",
          "text": "200\n[\n    {\n        \"properties\": {\n            \"provisioningState\": \"Deleting\"\n        },\n        \"location\": \"westeurope\",\n        \"name\": \"azure-lab4-apitest-043\",\n        \"id\": \"/subscriptions/a8682560-0e6b-4834-accf-21ff95b29125/resourceGroups/azure-lab4-apitest-043\"\n    },\n    {\n        \"properties\": {\n            \"provisioningState\": \"Succeeded\"\n        },\n        \"location\": \"westeurope\",\n        \"name\": \"cloud-shell-storage-westeurope\",\n        \"id\": \"/subscriptions/a8682560-0e6b-4834-accf-21ff95b29125/resourceGroups/cloud-shell-storage-westeurope\"\n    },\n    {\n        \"properties\": {\n            \"provisioningState\": \"Succeeded\"\n        },\n        \"location\": \"westeurope\",\n        \"name\": \"delphae-freetrail\",\n        \"id\": \"/subscriptions/a8682560-0e6b-4834-accf-21ff95b29125/resourceGroups/delphae-freetrail\"\n    },\n    {\n        \"properties\": {\n            \"provisioningState\": \"Succeeded\"\n        },\n        \"location\": \"westeurope\",\n        \"name\": \"NetworkWatcherRG\",\n        \"id\": \"/subscriptions/a8682560-0e6b-4834-accf-21ff95b29125/resourceGroups/NetworkWatcherRG\"\n    }\n]\n",
          "name": "stdout"
        }
      ]
    },
    {
      "metadata": {},
      "cell_type": "markdown",
      "source": "### Express Route Service Providers (ERSP)"
    },
    {
      "metadata": {
        "trusted": true
      },
      "cell_type": "code",
      "source": "url = 'https://management.azure.com/subscriptions/a8682560-0e6b-4834-accf-21ff95b29125/providers/Microsoft.Network/expressRouteServiceProviders?api-version=2018-07-01'\nresponse = requests.get(url, headers=headers)\nprint (response.status_code)\njsdata = response.json()\ndata = jsdata['value']",
      "execution_count": 66,
      "outputs": [
        {
          "output_type": "stream",
          "text": "200\n",
          "name": "stdout"
        }
      ]
    },
    {
      "metadata": {
        "trusted": true
      },
      "cell_type": "code",
      "source": "for ersp in data:\n    if ersp['name']=='Equinix':\n        print (json.dumps(ersp, indent=4))",
      "execution_count": 67,
      "outputs": [
        {
          "output_type": "stream",
          "text": "{\n    \"type\": \"Microsoft.Network/expressRouteServiceProviders\",\n    \"properties\": {\n        \"bandwidthsOffered\": [\n            {\n                \"valueInMbps\": 50,\n                \"offerName\": \"50Mbps\"\n            },\n            {\n                \"valueInMbps\": 100,\n                \"offerName\": \"100Mbps\"\n            },\n            {\n                \"valueInMbps\": 200,\n                \"offerName\": \"200Mbps\"\n            },\n            {\n                \"valueInMbps\": 500,\n                \"offerName\": \"500Mbps\"\n            },\n            {\n                \"valueInMbps\": 1000,\n                \"offerName\": \"1Gbps\"\n            },\n            {\n                \"valueInMbps\": 2000,\n                \"offerName\": \"2Gbps\"\n            },\n            {\n                \"valueInMbps\": 5000,\n                \"offerName\": \"5Gbps\"\n            },\n            {\n                \"valueInMbps\": 10000,\n                \"offerName\": \"10Gbps\"\n            }\n        ],\n        \"provisioningState\": \"Succeeded\",\n        \"peeringLocations\": [\n            \"Amsterdam\",\n            \"Atlanta\",\n            \"Chicago\",\n            \"Dallas\",\n            \"Dublin\",\n            \"Hong Kong\",\n            \"London\",\n            \"London2\",\n            \"Los Angeles\",\n            \"Melbourne\",\n            \"Miami\",\n            \"New York\",\n            \"Osaka\",\n            \"Paris\",\n            \"Sao Paulo\",\n            \"Seattle\",\n            \"Silicon Valley\",\n            \"Singapore\",\n            \"Sydney\",\n            \"Tokyo\",\n            \"Toronto\",\n            \"Washington DC\"\n        ]\n    },\n    \"name\": \"Equinix\",\n    \"id\": \"/subscriptions//resourceGroups//providers/Microsoft.Network/expressRouteServiceProviders/\"\n}\n",
          "name": "stdout"
        }
      ]
    },
    {
      "metadata": {
        "trusted": true
      },
      "cell_type": "code",
      "source": "for ersp in data:\n    if 'Amsterdam' in ersp['properties']['peeringLocations']:\n        #print (json.dumps(ersp, indent=4))\n        values = [x['valueInMbps'] for x in ersp['properties']['bandwidthsOffered']]\n        print ('{:40}{}'.format(ersp['name'], values))",
      "execution_count": 68,
      "outputs": [
        {
          "output_type": "stream",
          "text": "Aryaka Networks                         [50, 100, 200, 500, 1000, 2000, 5000, 10000]\nAT&T Netbond                            [50, 100, 200, 500, 1000, 2000, 5000, 10000]\nBritish Telecom                         [50, 100, 200, 500, 1000, 2000, 5000, 10000]\nColt Ethernet                           [50, 100, 200, 500, 1000, 2000, 5000, 10000]\nColt IPVPN                              [50, 100, 200, 500, 1000, 2000, 5000, 10000]\nEquinix                                 [50, 100, 200, 500, 1000, 2000, 5000, 10000]\neuNetworks                              [50, 100, 200, 500, 1000, 2000, 5000, 10000]\nGEANT                                   [50, 100, 200, 500, 1000, 2000, 5000, 10000]\nInterCloud                              [50, 100, 200, 500, 1000, 2000, 5000, 10000]\nInterCloud for Azure                    [50, 100, 200, 500, 1000, 2000, 5000, 10000]\nInterxion                               [50, 100, 200, 500, 1000, 2000, 5000, 10000]\nIX Reach                                [50, 100, 200, 500, 1000, 2000, 5000, 10000]\nKPN                                     [50, 100, 200, 500, 1000, 2000, 5000, 10000]\nLevel 3 Communications - Exchange       [50, 100, 200, 500, 1000, 2000, 5000, 10000]\nLevel 3 Communications - IPVPN          [50, 100, 200, 500, 1000, 2000, 5000, 10000]\nMegaport                                [50, 100, 200, 500, 1000, 2000, 5000, 10000]\nNTT Communications                      [50, 100, 200, 500, 1000, 2000, 5000, 10000]\nOrange                                  [50, 100, 200, 500, 1000, 2000, 5000, 10000]\nTata Communications                     [50, 100, 200, 500, 1000, 2000, 5000, 10000]\nTelefonica                              [50, 100, 200, 500, 1000, 2000, 5000, 10000]\nTelenor                                 [50, 100, 200, 500, 1000, 2000, 5000, 10000]\nTelia Carrier                           [50, 100, 200, 500, 1000, 2000, 5000, 10000]\nVerizon                                 [50, 100, 200, 500, 1000, 2000, 5000, 10000]\nZayo                                    [50, 100, 200, 500, 1000, 2000, 5000, 10000]\n",
          "name": "stdout"
        }
      ]
    },
    {
      "metadata": {
        "trusted": true
      },
      "cell_type": "code",
      "source": "",
      "execution_count": null,
      "outputs": []
    }
  ],
  "metadata": {
    "kernelspec": {
      "name": "python3",
      "display_name": "Python 3",
      "language": "python"
    },
    "language_info": {
      "mimetype": "text/x-python",
      "nbconvert_exporter": "python",
      "name": "python",
      "pygments_lexer": "ipython3",
      "version": "3.5.4",
      "file_extension": ".py",
      "codemirror_mode": {
        "version": 3,
        "name": "ipython"
      }
    }
  },
  "nbformat": 4,
  "nbformat_minor": 2
}